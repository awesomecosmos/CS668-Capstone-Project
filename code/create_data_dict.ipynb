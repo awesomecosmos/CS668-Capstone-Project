{
 "cells": [
  {
   "cell_type": "code",
   "execution_count": 1,
   "metadata": {},
   "outputs": [],
   "source": [
    "import pickle\n",
    "import xmltodict"
   ]
  },
  {
   "cell_type": "code",
   "execution_count": 2,
   "metadata": {},
   "outputs": [],
   "source": [
    "# reading xml data dictionary\n",
    "with open('../data/highered_00001.xml', 'r', encoding='utf-8') as file:\n",
    "    xml = file.read()"
   ]
  },
  {
   "cell_type": "code",
   "execution_count": 3,
   "metadata": {},
   "outputs": [],
   "source": [
    "# extracting data from xml data dictionary\n",
    "parsed_xml = xmltodict.parse(xml) "
   ]
  },
  {
   "cell_type": "code",
   "execution_count": 4,
   "metadata": {},
   "outputs": [],
   "source": [
    "# re-coded and simplified data dictionary\n",
    "full_data_dict = {}\n",
    "\n",
    "# extracting element in parsed_xml which contains the data we need\n",
    "data_dict_to_extract = parsed_xml['codeBook']['dataDscr']['var']\n",
    "\n",
    "# iterating over all variables (features)\n",
    "for i in range(len(data_dict_to_extract)):\n",
    "    # settting feature name as dictionary key\n",
    "    var_name_key = data_dict_to_extract[i]['@ID']\n",
    "\n",
    "    # creating dictionary to store data for current feature\n",
    "    var_data_dict = {}\n",
    "    # setting values in dictionary for feature\n",
    "    var_data_dict['var_desc_short'] = data_dict_to_extract[i]['labl']\n",
    "    var_data_dict['var_desc'] = data_dict_to_extract[i]['txt']\n",
    "\n",
    "    # creating dictionary to store information about data values\n",
    "    data_values = {}\n",
    "    try:\n",
    "        for dict in data_dict_to_extract[i]['catgry']:\n",
    "            key = dict['catValu']\n",
    "            value = dict['labl']\n",
    "            try:\n",
    "                # if data value is numeric, store it as numeric\n",
    "                data_values[int(key)] = value\n",
    "            except:\n",
    "                # otherwise store as-is\n",
    "                data_values[key] = value\n",
    "    except:\n",
    "        # if no data value information provided, leave blank\n",
    "        pass\n",
    "\n",
    "    # assigning dictionary with data values to its key\n",
    "    var_data_dict['data_values'] = data_values\n",
    "\n",
    "    # assigning dictionary of all data/metadata for current feature\n",
    "    full_data_dict[var_name_key] = var_data_dict"
   ]
  },
  {
   "cell_type": "code",
   "execution_count": 5,
   "metadata": {},
   "outputs": [],
   "source": [
    "# dumping final data dictionary to pickle\n",
    "with open('../data/data_dictionary.pkl', 'wb') as handle:\n",
    "    pickle.dump(full_data_dict, handle)"
   ]
  }
 ],
 "metadata": {
  "kernelspec": {
   "display_name": ".venv",
   "language": "python",
   "name": "python3"
  },
  "language_info": {
   "codemirror_mode": {
    "name": "ipython",
    "version": 3
   },
   "file_extension": ".py",
   "mimetype": "text/x-python",
   "name": "python",
   "nbconvert_exporter": "python",
   "pygments_lexer": "ipython3",
   "version": "3.11.5"
  }
 },
 "nbformat": 4,
 "nbformat_minor": 2
}
