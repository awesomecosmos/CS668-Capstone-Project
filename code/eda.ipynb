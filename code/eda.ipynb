{
 "cells": [
  {
   "cell_type": "code",
   "execution_count": 38,
   "metadata": {},
   "outputs": [],
   "source": [
    "import pandas as pd\n",
    "import numpy as np\n",
    "import pickle\n",
    "import matplotlib.pyplot as plt"
   ]
  },
  {
   "cell_type": "code",
   "execution_count": 3,
   "metadata": {},
   "outputs": [],
   "source": [
    "df = pd.read_pickle('../data/highered.pkl')"
   ]
  },
  {
   "cell_type": "code",
   "execution_count": 4,
   "metadata": {},
   "outputs": [
    {
     "data": {
      "text/plain": [
       "(531216, 126)"
      ]
     },
     "execution_count": 4,
     "metadata": {},
     "output_type": "execute_result"
    }
   ],
   "source": [
    "df.shape"
   ]
  },
  {
   "cell_type": "code",
   "execution_count": 7,
   "metadata": {},
   "outputs": [
    {
     "data": {
      "text/html": [
       "<div>\n",
       "<style scoped>\n",
       "    .dataframe tbody tr th:only-of-type {\n",
       "        vertical-align: middle;\n",
       "    }\n",
       "\n",
       "    .dataframe tbody tr th {\n",
       "        vertical-align: top;\n",
       "    }\n",
       "\n",
       "    .dataframe thead th {\n",
       "        text-align: right;\n",
       "    }\n",
       "</style>\n",
       "<table border=\"1\" class=\"dataframe\">\n",
       "  <thead>\n",
       "    <tr style=\"text-align: right;\">\n",
       "      <th></th>\n",
       "      <th>PERSONID</th>\n",
       "      <th>YEAR</th>\n",
       "      <th>WEIGHT</th>\n",
       "      <th>SAMPLE</th>\n",
       "      <th>SURID</th>\n",
       "      <th>MRDG</th>\n",
       "      <th>MR03Y5</th>\n",
       "      <th>NMRMEDR</th>\n",
       "      <th>NMRMEMG</th>\n",
       "      <th>LFSTAT</th>\n",
       "      <th>...</th>\n",
       "      <th>ICCOMM</th>\n",
       "      <th>ICTRLA</th>\n",
       "      <th>ICTRLH</th>\n",
       "      <th>ICWBVT</th>\n",
       "      <th>NWFAM</th>\n",
       "      <th>NWLAY</th>\n",
       "      <th>NWNOND</th>\n",
       "      <th>NWOCNA</th>\n",
       "      <th>NWOTP</th>\n",
       "      <th>NWSTU</th>\n",
       "    </tr>\n",
       "  </thead>\n",
       "  <tbody>\n",
       "    <tr>\n",
       "      <th>0</th>\n",
       "      <td>50000030000000003</td>\n",
       "      <td>2003</td>\n",
       "      <td>372.6047</td>\n",
       "      <td>601</td>\n",
       "      <td>1</td>\n",
       "      <td>1</td>\n",
       "      <td>1981</td>\n",
       "      <td>719995</td>\n",
       "      <td>7</td>\n",
       "      <td>1</td>\n",
       "      <td>...</td>\n",
       "      <td>NaN</td>\n",
       "      <td>NaN</td>\n",
       "      <td>NaN</td>\n",
       "      <td>NaN</td>\n",
       "      <td>98</td>\n",
       "      <td>98</td>\n",
       "      <td>98</td>\n",
       "      <td>98</td>\n",
       "      <td>98</td>\n",
       "      <td>98</td>\n",
       "    </tr>\n",
       "    <tr>\n",
       "      <th>1</th>\n",
       "      <td>50000030000000004</td>\n",
       "      <td>2003</td>\n",
       "      <td>341.7484</td>\n",
       "      <td>601</td>\n",
       "      <td>1</td>\n",
       "      <td>1</td>\n",
       "      <td>1961</td>\n",
       "      <td>719995</td>\n",
       "      <td>7</td>\n",
       "      <td>1</td>\n",
       "      <td>...</td>\n",
       "      <td>NaN</td>\n",
       "      <td>NaN</td>\n",
       "      <td>NaN</td>\n",
       "      <td>NaN</td>\n",
       "      <td>98</td>\n",
       "      <td>98</td>\n",
       "      <td>98</td>\n",
       "      <td>98</td>\n",
       "      <td>98</td>\n",
       "      <td>98</td>\n",
       "    </tr>\n",
       "    <tr>\n",
       "      <th>2</th>\n",
       "      <td>50000030000000005</td>\n",
       "      <td>2003</td>\n",
       "      <td>522.5629</td>\n",
       "      <td>601</td>\n",
       "      <td>1</td>\n",
       "      <td>1</td>\n",
       "      <td>1966</td>\n",
       "      <td>799995</td>\n",
       "      <td>7</td>\n",
       "      <td>1</td>\n",
       "      <td>...</td>\n",
       "      <td>NaN</td>\n",
       "      <td>NaN</td>\n",
       "      <td>NaN</td>\n",
       "      <td>NaN</td>\n",
       "      <td>98</td>\n",
       "      <td>98</td>\n",
       "      <td>98</td>\n",
       "      <td>98</td>\n",
       "      <td>98</td>\n",
       "      <td>98</td>\n",
       "    </tr>\n",
       "    <tr>\n",
       "      <th>3</th>\n",
       "      <td>50000030000000006</td>\n",
       "      <td>2003</td>\n",
       "      <td>135.0212</td>\n",
       "      <td>601</td>\n",
       "      <td>1</td>\n",
       "      <td>2</td>\n",
       "      <td>1996</td>\n",
       "      <td>298895</td>\n",
       "      <td>2</td>\n",
       "      <td>1</td>\n",
       "      <td>...</td>\n",
       "      <td>NaN</td>\n",
       "      <td>NaN</td>\n",
       "      <td>NaN</td>\n",
       "      <td>NaN</td>\n",
       "      <td>98</td>\n",
       "      <td>98</td>\n",
       "      <td>98</td>\n",
       "      <td>98</td>\n",
       "      <td>98</td>\n",
       "      <td>98</td>\n",
       "    </tr>\n",
       "    <tr>\n",
       "      <th>4</th>\n",
       "      <td>50000030000000104</td>\n",
       "      <td>2003</td>\n",
       "      <td>907.4463</td>\n",
       "      <td>601</td>\n",
       "      <td>1</td>\n",
       "      <td>2</td>\n",
       "      <td>1976</td>\n",
       "      <td>438995</td>\n",
       "      <td>4</td>\n",
       "      <td>3</td>\n",
       "      <td>...</td>\n",
       "      <td>NaN</td>\n",
       "      <td>NaN</td>\n",
       "      <td>NaN</td>\n",
       "      <td>NaN</td>\n",
       "      <td>0</td>\n",
       "      <td>0</td>\n",
       "      <td>0</td>\n",
       "      <td>0</td>\n",
       "      <td>1</td>\n",
       "      <td>0</td>\n",
       "    </tr>\n",
       "  </tbody>\n",
       "</table>\n",
       "<p>5 rows × 125 columns</p>\n",
       "</div>"
      ],
      "text/plain": [
       "            PERSONID  YEAR    WEIGHT  SAMPLE  SURID  MRDG  MR03Y5  NMRMEDR  \\\n",
       "0  50000030000000003  2003  372.6047     601      1     1    1981   719995   \n",
       "1  50000030000000004  2003  341.7484     601      1     1    1961   719995   \n",
       "2  50000030000000005  2003  522.5629     601      1     1    1966   799995   \n",
       "3  50000030000000006  2003  135.0212     601      1     2    1996   298895   \n",
       "4  50000030000000104  2003  907.4463     601      1     2    1976   438995   \n",
       "\n",
       "   NMRMEMG  LFSTAT  ...  ICCOMM  ICTRLA  ICTRLH  ICWBVT  NWFAM  NWLAY  NWNOND  \\\n",
       "0        7       1  ...     NaN     NaN     NaN     NaN     98     98      98   \n",
       "1        7       1  ...     NaN     NaN     NaN     NaN     98     98      98   \n",
       "2        7       1  ...     NaN     NaN     NaN     NaN     98     98      98   \n",
       "3        2       1  ...     NaN     NaN     NaN     NaN     98     98      98   \n",
       "4        4       3  ...     NaN     NaN     NaN     NaN      0      0       0   \n",
       "\n",
       "   NWOCNA  NWOTP  NWSTU  \n",
       "0      98     98     98  \n",
       "1      98     98     98  \n",
       "2      98     98     98  \n",
       "3      98     98     98  \n",
       "4       0      1      0  \n",
       "\n",
       "[5 rows x 125 columns]"
      ]
     },
     "execution_count": 7,
     "metadata": {},
     "output_type": "execute_result"
    }
   ],
   "source": [
    "df = df.drop(['Unnamed: 0'], axis=1)\n",
    "df.head()"
   ]
  },
  {
   "cell_type": "code",
   "execution_count": 28,
   "metadata": {},
   "outputs": [
    {
     "data": {
      "text/plain": [
       "PERSONID    0\n",
       "YEAR        0\n",
       "WEIGHT      0\n",
       "SAMPLE      0\n",
       "SURID       0\n",
       "           ..\n",
       "NWLAY       0\n",
       "NWNOND      0\n",
       "NWOCNA      0\n",
       "NWOTP       0\n",
       "NWSTU       0\n",
       "Length: 125, dtype: int64"
      ]
     },
     "execution_count": 28,
     "metadata": {},
     "output_type": "execute_result"
    }
   ],
   "source": [
    "df.isnull().sum()"
   ]
  },
  {
   "cell_type": "code",
   "execution_count": 9,
   "metadata": {},
   "outputs": [
    {
     "data": {
      "text/html": [
       "<div>\n",
       "<style scoped>\n",
       "    .dataframe tbody tr th:only-of-type {\n",
       "        vertical-align: middle;\n",
       "    }\n",
       "\n",
       "    .dataframe tbody tr th {\n",
       "        vertical-align: top;\n",
       "    }\n",
       "\n",
       "    .dataframe thead th {\n",
       "        text-align: right;\n",
       "    }\n",
       "</style>\n",
       "<table border=\"1\" class=\"dataframe\">\n",
       "  <thead>\n",
       "    <tr style=\"text-align: right;\">\n",
       "      <th></th>\n",
       "      <th>PERSONID</th>\n",
       "      <th>YEAR</th>\n",
       "      <th>WEIGHT</th>\n",
       "      <th>SAMPLE</th>\n",
       "      <th>SURID</th>\n",
       "      <th>MRDG</th>\n",
       "      <th>MR03Y5</th>\n",
       "      <th>NMRMEDR</th>\n",
       "      <th>NMRMEMG</th>\n",
       "      <th>LFSTAT</th>\n",
       "      <th>...</th>\n",
       "      <th>ICCOMM</th>\n",
       "      <th>ICTRLA</th>\n",
       "      <th>ICTRLH</th>\n",
       "      <th>ICWBVT</th>\n",
       "      <th>NWFAM</th>\n",
       "      <th>NWLAY</th>\n",
       "      <th>NWNOND</th>\n",
       "      <th>NWOCNA</th>\n",
       "      <th>NWOTP</th>\n",
       "      <th>NWSTU</th>\n",
       "    </tr>\n",
       "  </thead>\n",
       "  <tbody>\n",
       "    <tr>\n",
       "      <th>count</th>\n",
       "      <td>5.312160e+05</td>\n",
       "      <td>531216.000000</td>\n",
       "      <td>531216.000000</td>\n",
       "      <td>531216.000000</td>\n",
       "      <td>531216.000000</td>\n",
       "      <td>531216.000000</td>\n",
       "      <td>531216.000000</td>\n",
       "      <td>531216.000000</td>\n",
       "      <td>531216.000000</td>\n",
       "      <td>531216.000000</td>\n",
       "      <td>...</td>\n",
       "      <td>105064.000000</td>\n",
       "      <td>105064.000000</td>\n",
       "      <td>105064.000000</td>\n",
       "      <td>105064.000000</td>\n",
       "      <td>531216.000000</td>\n",
       "      <td>531216.000000</td>\n",
       "      <td>531216.000000</td>\n",
       "      <td>531216.000000</td>\n",
       "      <td>531216.000000</td>\n",
       "      <td>531216.000000</td>\n",
       "    </tr>\n",
       "    <tr>\n",
       "      <th>mean</th>\n",
       "      <td>6.791717e+16</td>\n",
       "      <td>2008.132820</td>\n",
       "      <td>232.275293</td>\n",
       "      <td>806.921324</td>\n",
       "      <td>1.485305</td>\n",
       "      <td>2.001598</td>\n",
       "      <td>1989.843124</td>\n",
       "      <td>475942.620032</td>\n",
       "      <td>4.230213</td>\n",
       "      <td>1.268002</td>\n",
       "      <td>...</td>\n",
       "      <td>78.818787</td>\n",
       "      <td>78.703562</td>\n",
       "      <td>78.736189</td>\n",
       "      <td>78.732601</td>\n",
       "      <td>83.484483</td>\n",
       "      <td>83.475526</td>\n",
       "      <td>83.492984</td>\n",
       "      <td>83.481531</td>\n",
       "      <td>83.551228</td>\n",
       "      <td>83.478790</td>\n",
       "    </tr>\n",
       "    <tr>\n",
       "      <th>std</th>\n",
       "      <td>4.380479e+16</td>\n",
       "      <td>3.438795</td>\n",
       "      <td>409.307824</td>\n",
       "      <td>142.622619</td>\n",
       "      <td>0.668826</td>\n",
       "      <td>0.943027</td>\n",
       "      <td>38.762857</td>\n",
       "      <td>181563.579399</td>\n",
       "      <td>1.824249</td>\n",
       "      <td>0.659893</td>\n",
       "      <td>...</td>\n",
       "      <td>38.644287</td>\n",
       "      <td>38.876939</td>\n",
       "      <td>38.811236</td>\n",
       "      <td>38.818469</td>\n",
       "      <td>34.777917</td>\n",
       "      <td>34.799282</td>\n",
       "      <td>34.757625</td>\n",
       "      <td>34.784960</td>\n",
       "      <td>34.618224</td>\n",
       "      <td>34.791497</td>\n",
       "    </tr>\n",
       "    <tr>\n",
       "      <th>min</th>\n",
       "      <td>2.000000e+16</td>\n",
       "      <td>2003.000000</td>\n",
       "      <td>0.369800</td>\n",
       "      <td>601.000000</td>\n",
       "      <td>1.000000</td>\n",
       "      <td>1.000000</td>\n",
       "      <td>1950.000000</td>\n",
       "      <td>198895.000000</td>\n",
       "      <td>1.000000</td>\n",
       "      <td>1.000000</td>\n",
       "      <td>...</td>\n",
       "      <td>0.000000</td>\n",
       "      <td>0.000000</td>\n",
       "      <td>0.000000</td>\n",
       "      <td>0.000000</td>\n",
       "      <td>0.000000</td>\n",
       "      <td>0.000000</td>\n",
       "      <td>0.000000</td>\n",
       "      <td>0.000000</td>\n",
       "      <td>0.000000</td>\n",
       "      <td>0.000000</td>\n",
       "    </tr>\n",
       "    <tr>\n",
       "      <th>25%</th>\n",
       "      <td>2.000904e+16</td>\n",
       "      <td>2006.000000</td>\n",
       "      <td>29.106000</td>\n",
       "      <td>701.000000</td>\n",
       "      <td>1.000000</td>\n",
       "      <td>1.000000</td>\n",
       "      <td>1981.000000</td>\n",
       "      <td>318730.000000</td>\n",
       "      <td>3.000000</td>\n",
       "      <td>1.000000</td>\n",
       "      <td>...</td>\n",
       "      <td>98.000000</td>\n",
       "      <td>98.000000</td>\n",
       "      <td>98.000000</td>\n",
       "      <td>98.000000</td>\n",
       "      <td>98.000000</td>\n",
       "      <td>98.000000</td>\n",
       "      <td>98.000000</td>\n",
       "      <td>98.000000</td>\n",
       "      <td>98.000000</td>\n",
       "      <td>98.000000</td>\n",
       "    </tr>\n",
       "    <tr>\n",
       "      <th>50%</th>\n",
       "      <td>5.000004e+16</td>\n",
       "      <td>2008.000000</td>\n",
       "      <td>101.752800</td>\n",
       "      <td>801.000000</td>\n",
       "      <td>1.000000</td>\n",
       "      <td>2.000000</td>\n",
       "      <td>1991.000000</td>\n",
       "      <td>459395.000000</td>\n",
       "      <td>4.000000</td>\n",
       "      <td>1.000000</td>\n",
       "      <td>...</td>\n",
       "      <td>98.000000</td>\n",
       "      <td>98.000000</td>\n",
       "      <td>98.000000</td>\n",
       "      <td>98.000000</td>\n",
       "      <td>98.000000</td>\n",
       "      <td>98.000000</td>\n",
       "      <td>98.000000</td>\n",
       "      <td>98.000000</td>\n",
       "      <td>98.000000</td>\n",
       "      <td>98.000000</td>\n",
       "    </tr>\n",
       "    <tr>\n",
       "      <th>75%</th>\n",
       "      <td>1.101000e+17</td>\n",
       "      <td>2010.000000</td>\n",
       "      <td>262.868850</td>\n",
       "      <td>902.000000</td>\n",
       "      <td>2.000000</td>\n",
       "      <td>3.000000</td>\n",
       "      <td>2001.000000</td>\n",
       "      <td>611995.000000</td>\n",
       "      <td>6.000000</td>\n",
       "      <td>1.000000</td>\n",
       "      <td>...</td>\n",
       "      <td>98.000000</td>\n",
       "      <td>98.000000</td>\n",
       "      <td>98.000000</td>\n",
       "      <td>98.000000</td>\n",
       "      <td>98.000000</td>\n",
       "      <td>98.000000</td>\n",
       "      <td>98.000000</td>\n",
       "      <td>98.000000</td>\n",
       "      <td>98.000000</td>\n",
       "      <td>98.000000</td>\n",
       "    </tr>\n",
       "    <tr>\n",
       "      <th>max</th>\n",
       "      <td>1.401011e+17</td>\n",
       "      <td>2013.000000</td>\n",
       "      <td>14782.721400</td>\n",
       "      <td>1002.000000</td>\n",
       "      <td>3.000000</td>\n",
       "      <td>5.000000</td>\n",
       "      <td>9999.000000</td>\n",
       "      <td>999999.000000</td>\n",
       "      <td>9.000000</td>\n",
       "      <td>3.000000</td>\n",
       "      <td>...</td>\n",
       "      <td>98.000000</td>\n",
       "      <td>98.000000</td>\n",
       "      <td>98.000000</td>\n",
       "      <td>98.000000</td>\n",
       "      <td>98.000000</td>\n",
       "      <td>98.000000</td>\n",
       "      <td>98.000000</td>\n",
       "      <td>98.000000</td>\n",
       "      <td>98.000000</td>\n",
       "      <td>98.000000</td>\n",
       "    </tr>\n",
       "  </tbody>\n",
       "</table>\n",
       "<p>8 rows × 125 columns</p>\n",
       "</div>"
      ],
      "text/plain": [
       "           PERSONID           YEAR         WEIGHT         SAMPLE  \\\n",
       "count  5.312160e+05  531216.000000  531216.000000  531216.000000   \n",
       "mean   6.791717e+16    2008.132820     232.275293     806.921324   \n",
       "std    4.380479e+16       3.438795     409.307824     142.622619   \n",
       "min    2.000000e+16    2003.000000       0.369800     601.000000   \n",
       "25%    2.000904e+16    2006.000000      29.106000     701.000000   \n",
       "50%    5.000004e+16    2008.000000     101.752800     801.000000   \n",
       "75%    1.101000e+17    2010.000000     262.868850     902.000000   \n",
       "max    1.401011e+17    2013.000000   14782.721400    1002.000000   \n",
       "\n",
       "               SURID           MRDG         MR03Y5        NMRMEDR  \\\n",
       "count  531216.000000  531216.000000  531216.000000  531216.000000   \n",
       "mean        1.485305       2.001598    1989.843124  475942.620032   \n",
       "std         0.668826       0.943027      38.762857  181563.579399   \n",
       "min         1.000000       1.000000    1950.000000  198895.000000   \n",
       "25%         1.000000       1.000000    1981.000000  318730.000000   \n",
       "50%         1.000000       2.000000    1991.000000  459395.000000   \n",
       "75%         2.000000       3.000000    2001.000000  611995.000000   \n",
       "max         3.000000       5.000000    9999.000000  999999.000000   \n",
       "\n",
       "             NMRMEMG         LFSTAT  ...         ICCOMM         ICTRLA  \\\n",
       "count  531216.000000  531216.000000  ...  105064.000000  105064.000000   \n",
       "mean        4.230213       1.268002  ...      78.818787      78.703562   \n",
       "std         1.824249       0.659893  ...      38.644287      38.876939   \n",
       "min         1.000000       1.000000  ...       0.000000       0.000000   \n",
       "25%         3.000000       1.000000  ...      98.000000      98.000000   \n",
       "50%         4.000000       1.000000  ...      98.000000      98.000000   \n",
       "75%         6.000000       1.000000  ...      98.000000      98.000000   \n",
       "max         9.000000       3.000000  ...      98.000000      98.000000   \n",
       "\n",
       "              ICTRLH         ICWBVT          NWFAM          NWLAY  \\\n",
       "count  105064.000000  105064.000000  531216.000000  531216.000000   \n",
       "mean       78.736189      78.732601      83.484483      83.475526   \n",
       "std        38.811236      38.818469      34.777917      34.799282   \n",
       "min         0.000000       0.000000       0.000000       0.000000   \n",
       "25%        98.000000      98.000000      98.000000      98.000000   \n",
       "50%        98.000000      98.000000      98.000000      98.000000   \n",
       "75%        98.000000      98.000000      98.000000      98.000000   \n",
       "max        98.000000      98.000000      98.000000      98.000000   \n",
       "\n",
       "              NWNOND         NWOCNA          NWOTP          NWSTU  \n",
       "count  531216.000000  531216.000000  531216.000000  531216.000000  \n",
       "mean       83.492984      83.481531      83.551228      83.478790  \n",
       "std        34.757625      34.784960      34.618224      34.791497  \n",
       "min         0.000000       0.000000       0.000000       0.000000  \n",
       "25%        98.000000      98.000000      98.000000      98.000000  \n",
       "50%        98.000000      98.000000      98.000000      98.000000  \n",
       "75%        98.000000      98.000000      98.000000      98.000000  \n",
       "max        98.000000      98.000000      98.000000      98.000000  \n",
       "\n",
       "[8 rows x 125 columns]"
      ]
     },
     "execution_count": 9,
     "metadata": {},
     "output_type": "execute_result"
    }
   ],
   "source": [
    "df.describe()"
   ]
  },
  {
   "cell_type": "code",
   "execution_count": 82,
   "metadata": {},
   "outputs": [],
   "source": [
    "df2 = df.copy()"
   ]
  },
  {
   "cell_type": "code",
   "execution_count": 83,
   "metadata": {},
   "outputs": [
    {
     "data": {
      "text/html": [
       "<div>\n",
       "<style scoped>\n",
       "    .dataframe tbody tr th:only-of-type {\n",
       "        vertical-align: middle;\n",
       "    }\n",
       "\n",
       "    .dataframe tbody tr th {\n",
       "        vertical-align: top;\n",
       "    }\n",
       "\n",
       "    .dataframe thead th {\n",
       "        text-align: right;\n",
       "    }\n",
       "</style>\n",
       "<table border=\"1\" class=\"dataframe\">\n",
       "  <thead>\n",
       "    <tr style=\"text-align: right;\">\n",
       "      <th></th>\n",
       "      <th>PERSONID</th>\n",
       "      <th>YEAR</th>\n",
       "      <th>MRDG</th>\n",
       "      <th>MR03Y5</th>\n",
       "      <th>NMRMEDR</th>\n",
       "      <th>NMRMEMG</th>\n",
       "      <th>LFSTAT</th>\n",
       "      <th>FPTIND</th>\n",
       "      <th>EMSMI</th>\n",
       "      <th>HRSWKGR</th>\n",
       "      <th>...</th>\n",
       "      <th>ICCOMM</th>\n",
       "      <th>ICTRLA</th>\n",
       "      <th>ICTRLH</th>\n",
       "      <th>ICWBVT</th>\n",
       "      <th>NWFAM</th>\n",
       "      <th>NWLAY</th>\n",
       "      <th>NWNOND</th>\n",
       "      <th>NWOCNA</th>\n",
       "      <th>NWOTP</th>\n",
       "      <th>NWSTU</th>\n",
       "    </tr>\n",
       "  </thead>\n",
       "  <tbody>\n",
       "    <tr>\n",
       "      <th>0</th>\n",
       "      <td>50000030000000003</td>\n",
       "      <td>2003</td>\n",
       "      <td>1</td>\n",
       "      <td>1981</td>\n",
       "      <td>719995</td>\n",
       "      <td>7</td>\n",
       "      <td>1</td>\n",
       "      <td>1.0</td>\n",
       "      <td>NaN</td>\n",
       "      <td>3</td>\n",
       "      <td>...</td>\n",
       "      <td>NaN</td>\n",
       "      <td>NaN</td>\n",
       "      <td>NaN</td>\n",
       "      <td>NaN</td>\n",
       "      <td>98</td>\n",
       "      <td>98</td>\n",
       "      <td>98</td>\n",
       "      <td>98</td>\n",
       "      <td>98</td>\n",
       "      <td>98</td>\n",
       "    </tr>\n",
       "    <tr>\n",
       "      <th>1</th>\n",
       "      <td>50000030000000004</td>\n",
       "      <td>2003</td>\n",
       "      <td>1</td>\n",
       "      <td>1961</td>\n",
       "      <td>719995</td>\n",
       "      <td>7</td>\n",
       "      <td>1</td>\n",
       "      <td>1.0</td>\n",
       "      <td>NaN</td>\n",
       "      <td>3</td>\n",
       "      <td>...</td>\n",
       "      <td>NaN</td>\n",
       "      <td>NaN</td>\n",
       "      <td>NaN</td>\n",
       "      <td>NaN</td>\n",
       "      <td>98</td>\n",
       "      <td>98</td>\n",
       "      <td>98</td>\n",
       "      <td>98</td>\n",
       "      <td>98</td>\n",
       "      <td>98</td>\n",
       "    </tr>\n",
       "    <tr>\n",
       "      <th>2</th>\n",
       "      <td>50000030000000005</td>\n",
       "      <td>2003</td>\n",
       "      <td>1</td>\n",
       "      <td>1966</td>\n",
       "      <td>799995</td>\n",
       "      <td>7</td>\n",
       "      <td>1</td>\n",
       "      <td>1.0</td>\n",
       "      <td>NaN</td>\n",
       "      <td>4</td>\n",
       "      <td>...</td>\n",
       "      <td>NaN</td>\n",
       "      <td>NaN</td>\n",
       "      <td>NaN</td>\n",
       "      <td>NaN</td>\n",
       "      <td>98</td>\n",
       "      <td>98</td>\n",
       "      <td>98</td>\n",
       "      <td>98</td>\n",
       "      <td>98</td>\n",
       "      <td>98</td>\n",
       "    </tr>\n",
       "    <tr>\n",
       "      <th>3</th>\n",
       "      <td>50000030000000006</td>\n",
       "      <td>2003</td>\n",
       "      <td>2</td>\n",
       "      <td>1996</td>\n",
       "      <td>298895</td>\n",
       "      <td>2</td>\n",
       "      <td>1</td>\n",
       "      <td>1.0</td>\n",
       "      <td>NaN</td>\n",
       "      <td>4</td>\n",
       "      <td>...</td>\n",
       "      <td>NaN</td>\n",
       "      <td>NaN</td>\n",
       "      <td>NaN</td>\n",
       "      <td>NaN</td>\n",
       "      <td>98</td>\n",
       "      <td>98</td>\n",
       "      <td>98</td>\n",
       "      <td>98</td>\n",
       "      <td>98</td>\n",
       "      <td>98</td>\n",
       "    </tr>\n",
       "    <tr>\n",
       "      <th>4</th>\n",
       "      <td>50000030000000104</td>\n",
       "      <td>2003</td>\n",
       "      <td>2</td>\n",
       "      <td>1976</td>\n",
       "      <td>438995</td>\n",
       "      <td>4</td>\n",
       "      <td>3</td>\n",
       "      <td>98.0</td>\n",
       "      <td>NaN</td>\n",
       "      <td>98</td>\n",
       "      <td>...</td>\n",
       "      <td>NaN</td>\n",
       "      <td>NaN</td>\n",
       "      <td>NaN</td>\n",
       "      <td>NaN</td>\n",
       "      <td>0</td>\n",
       "      <td>0</td>\n",
       "      <td>0</td>\n",
       "      <td>0</td>\n",
       "      <td>1</td>\n",
       "      <td>0</td>\n",
       "    </tr>\n",
       "  </tbody>\n",
       "</table>\n",
       "<p>5 rows × 107 columns</p>\n",
       "</div>"
      ],
      "text/plain": [
       "            PERSONID  YEAR  MRDG  MR03Y5  NMRMEDR  NMRMEMG  LFSTAT  FPTIND  \\\n",
       "0  50000030000000003  2003     1    1981   719995        7       1     1.0   \n",
       "1  50000030000000004  2003     1    1961   719995        7       1     1.0   \n",
       "2  50000030000000005  2003     1    1966   799995        7       1     1.0   \n",
       "3  50000030000000006  2003     2    1996   298895        2       1     1.0   \n",
       "4  50000030000000104  2003     2    1976   438995        4       3    98.0   \n",
       "\n",
       "   EMSMI  HRSWKGR  ...  ICCOMM  ICTRLA  ICTRLH  ICWBVT  NWFAM  NWLAY  NWNOND  \\\n",
       "0    NaN        3  ...     NaN     NaN     NaN     NaN     98     98      98   \n",
       "1    NaN        3  ...     NaN     NaN     NaN     NaN     98     98      98   \n",
       "2    NaN        4  ...     NaN     NaN     NaN     NaN     98     98      98   \n",
       "3    NaN        4  ...     NaN     NaN     NaN     NaN     98     98      98   \n",
       "4    NaN       98  ...     NaN     NaN     NaN     NaN      0      0       0   \n",
       "\n",
       "   NWOCNA  NWOTP  NWSTU  \n",
       "0      98     98     98  \n",
       "1      98     98     98  \n",
       "2      98     98     98  \n",
       "3      98     98     98  \n",
       "4       0      1      0  \n",
       "\n",
       "[5 rows x 107 columns]"
      ]
     },
     "execution_count": 83,
     "metadata": {},
     "output_type": "execute_result"
    }
   ],
   "source": [
    "cols_to_drop = ['WEIGHT','SAMPLE','SURID','WRKG','WRKGP','EMUS','FSAGR','FSDED','FSDK','FSDOD','FSDOE','FSDOT','FSEPA','FSHHS',\n",
    "                'FSNASA','FSNIH','FSNSF','FSOT','MR03Y5']\n",
    "df2 = df2.drop(cols_to_drop, axis=1)\n",
    "df2.head()"
   ]
  },
  {
   "cell_type": "markdown",
   "metadata": {},
   "source": [
    "## Investigating Variables\n",
    "\n",
    "We will investigate different variables of interest and assess if they are relevant to the model or not."
   ]
  },
  {
   "cell_type": "markdown",
   "metadata": {},
   "source": [
    "### EMSEC: Employer sector. \n",
    "\n",
    "1 = 2 year college or other school system, 2 = 4 year college or medical institution, 3 = Government, 4 = Business or industry, 5 = Non-US government, 98 = Logical Skip."
   ]
  },
  {
   "cell_type": "code",
   "execution_count": 84,
   "metadata": {},
   "outputs": [
    {
     "data": {
      "text/plain": [
       "EMSEC\n",
       "1      34260\n",
       "2      90334\n",
       "3      53412\n",
       "4     274398\n",
       "98     78812\n",
       "Name: EMSEC, dtype: int64"
      ]
     },
     "execution_count": 84,
     "metadata": {},
     "output_type": "execute_result"
    }
   ],
   "source": [
    "df2.groupby(['EMSEC'])['EMSEC'].count()"
   ]
  },
  {
   "cell_type": "markdown",
   "metadata": {},
   "source": [
    "We will drop the 'skip' values for this column and all proceeding columns with that value, as it does not add any meaningful analysis. We will drop EMSEC values of 5 as well, since we are not interested in a non-US government employment type."
   ]
  },
  {
   "cell_type": "code",
   "execution_count": 85,
   "metadata": {},
   "outputs": [
    {
     "data": {
      "text/plain": [
       "(452404, 107)"
      ]
     },
     "execution_count": 85,
     "metadata": {},
     "output_type": "execute_result"
    }
   ],
   "source": [
    "df2 = df2[df2['EMSEC'].isin([1,2,3,4])]\n",
    "df2.shape"
   ]
  },
  {
   "cell_type": "markdown",
   "metadata": {},
   "source": [
    "### LFSTAT: Labor force status.\n",
    "1 = employed, 2 = unemployed, 3 = not in labor force."
   ]
  },
  {
   "cell_type": "code",
   "execution_count": 86,
   "metadata": {},
   "outputs": [
    {
     "data": {
      "text/plain": [
       "LFSTAT\n",
       "1    452404\n",
       "Name: LFSTAT, dtype: int64"
      ]
     },
     "execution_count": 86,
     "metadata": {},
     "output_type": "execute_result"
    }
   ],
   "source": [
    "df2.groupby(['LFSTAT'])['LFSTAT'].count()"
   ]
  },
  {
   "cell_type": "markdown",
   "metadata": {},
   "source": [
    "We will drop values 2 and 3, since we are only interested in survey respondents who were employed at the time of the survey."
   ]
  },
  {
   "cell_type": "code",
   "execution_count": 87,
   "metadata": {},
   "outputs": [
    {
     "data": {
      "text/plain": [
       "(452404, 107)"
      ]
     },
     "execution_count": 87,
     "metadata": {},
     "output_type": "execute_result"
    }
   ],
   "source": [
    "df2 = df2[df2['LFSTAT'] == 1]\n",
    "df2.shape"
   ]
  },
  {
   "cell_type": "markdown",
   "metadata": {},
   "source": [
    "### GOVSUP: Federal government support indicator.\n",
    "0 = no, 1 = yes."
   ]
  },
  {
   "cell_type": "code",
   "execution_count": 90,
   "metadata": {},
   "outputs": [
    {
     "data": {
      "text/plain": [
       "GOVSUP\n",
       "0     346408\n",
       "1     102498\n",
       "98      3498\n",
       "Name: GOVSUP, dtype: int64"
      ]
     },
     "execution_count": 90,
     "metadata": {},
     "output_type": "execute_result"
    }
   ],
   "source": [
    "df2.groupby(['GOVSUP'])['GOVSUP'].count()"
   ]
  },
  {
   "cell_type": "code",
   "execution_count": 91,
   "metadata": {},
   "outputs": [
    {
     "data": {
      "text/plain": [
       "(448906, 107)"
      ]
     },
     "execution_count": 91,
     "metadata": {},
     "output_type": "execute_result"
    }
   ],
   "source": [
    "df2 = df2[df2['GOVSUP'] != 98]\n",
    "df2.shape"
   ]
  },
  {
   "cell_type": "markdown",
   "metadata": {},
   "source": [
    "### MRDG: Type of degree, most recent degree.\n",
    "1 = Bachelor's, 2 = Master's, 3 = Doctorate, 4 = Professional, 5 = Other."
   ]
  },
  {
   "cell_type": "code",
   "execution_count": 94,
   "metadata": {},
   "outputs": [
    {
     "data": {
      "text/plain": [
       "MRDG\n",
       "1    172121\n",
       "2    117429\n",
       "3    137244\n",
       "4     21373\n",
       "5       739\n",
       "Name: MRDG, dtype: int64"
      ]
     },
     "execution_count": 94,
     "metadata": {},
     "output_type": "execute_result"
    }
   ],
   "source": [
    "df2.groupby(['MRDG'])['MRDG'].count()"
   ]
  },
  {
   "cell_type": "markdown",
   "metadata": {},
   "source": [
    "We will drop 1, 2, 4, and 5, since we are only interested in respondents with a doctorate."
   ]
  },
  {
   "cell_type": "code",
   "execution_count": 95,
   "metadata": {},
   "outputs": [
    {
     "data": {
      "text/plain": [
       "(137244, 107)"
      ]
     },
     "execution_count": 95,
     "metadata": {},
     "output_type": "execute_result"
    }
   ],
   "source": [
    "df2 = df2[df2['MRDG'] == 3]\n",
    "df2.shape"
   ]
  },
  {
   "cell_type": "code",
   "execution_count": null,
   "metadata": {},
   "outputs": [],
   "source": [
    "cols_to_drop_98 = ['OCEDRLP']"
   ]
  },
  {
   "cell_type": "code",
   "execution_count": 22,
   "metadata": {},
   "outputs": [
    {
     "data": {
      "text/plain": [
       "(531216, 125)"
      ]
     },
     "execution_count": 22,
     "metadata": {},
     "output_type": "execute_result"
    }
   ],
   "source": [
    "df.shape"
   ]
  },
  {
   "cell_type": "code",
   "execution_count": 32,
   "metadata": {},
   "outputs": [
    {
     "name": "stdout",
     "output_type": "stream",
     "text": [
      "<class 'pandas.core.frame.DataFrame'>\n",
      "RangeIndex: 531216 entries, 0 to 531215\n",
      "Columns: 125 entries, PERSONID to NWSTU\n",
      "dtypes: float64(67), int64(58)\n",
      "memory usage: 506.6 MB\n"
     ]
    }
   ],
   "source": [
    "df.info()"
   ]
  },
  {
   "cell_type": "code",
   "execution_count": 33,
   "metadata": {},
   "outputs": [
    {
     "data": {
      "text/plain": [
       "(array([     0,      0,      0, ..., 531215, 531215, 531215]),\n",
       " array([ 12,  13,  16, ..., 116, 117, 118]))"
      ]
     },
     "execution_count": 33,
     "metadata": {},
     "output_type": "execute_result"
    }
   ],
   "source": [
    "# finding columns in the df which have any null/na values\n",
    "np.where(pd.isna(df))"
   ]
  },
  {
   "cell_type": "code",
   "execution_count": 111,
   "metadata": {},
   "outputs": [
    {
     "data": {
      "text/plain": [
       "18237"
      ]
     },
     "execution_count": 111,
     "metadata": {},
     "output_type": "execute_result"
    }
   ],
   "source": [
    "df2[df2['SALARY']==df2['SALARY'].max()]['SALARY'].count()"
   ]
  },
  {
   "cell_type": "code",
   "execution_count": 101,
   "metadata": {},
   "outputs": [
    {
     "data": {
      "text/plain": [
       "(array([ 1108.,  1145.,  1051.,  1009.,   778.,   846.,  1038.,   345.,\n",
       "          975.,   367.,  1408.,  1162.,  1599.,  2927.,  2428.,  2921.,\n",
       "         5007.,  2642.,  3557.,  2241.,  5540.,  4169.,  2532.,  4429.,\n",
       "         3214.,  4174.,  5462.,  2500.,  4079.,  2325.,  4819.,  3254.,\n",
       "         2404.,  6001.,  2270.,  2696.,  3883.,  1213.,  1918.,  1073.,\n",
       "         4149.,  2351.,  1028.,  2435.,   790.,  1449.,  2139.,   594.,\n",
       "         1040., 18760.]),\n",
       " array([     0.,   3000.,   6000.,   9000.,  12000.,  15000.,  18000.,\n",
       "         21000.,  24000.,  27000.,  30000.,  33000.,  36000.,  39000.,\n",
       "         42000.,  45000.,  48000.,  51000.,  54000.,  57000.,  60000.,\n",
       "         63000.,  66000.,  69000.,  72000.,  75000.,  78000.,  81000.,\n",
       "         84000.,  87000.,  90000.,  93000.,  96000.,  99000., 102000.,\n",
       "        105000., 108000., 111000., 114000., 117000., 120000., 123000.,\n",
       "        126000., 129000., 132000., 135000., 138000., 141000., 144000.,\n",
       "        147000., 150000.]),\n",
       " <BarContainer object of 50 artists>)"
      ]
     },
     "execution_count": 101,
     "metadata": {},
     "output_type": "execute_result"
    },
    {
     "data": {
      "image/png": "[encoded data removed]",
      "text/plain": [
       "<Figure size 640x480 with 1 Axes>"
      ]
     },
     "metadata": {},
     "output_type": "display_data"
    }
   ],
   "source": [
    "plt.hist(df2['SALARY'], bins=50)"
   ]
  },
  {
   "cell_type": "code",
   "execution_count": 40,
   "metadata": {},
   "outputs": [
    {
     "data": {
      "text/plain": [
       "array([[<Axes: title={'center': 'PERSONID'}>,\n",
       "        <Axes: title={'center': 'YEAR'}>,\n",
       "        <Axes: title={'center': 'WEIGHT'}>,\n",
       "        <Axes: title={'center': 'SAMPLE'}>,\n",
       "        <Axes: title={'center': 'SURID'}>,\n",
       "        <Axes: title={'center': 'MRDG'}>,\n",
       "        <Axes: title={'center': 'MR03Y5'}>,\n",
       "        <Axes: title={'center': 'NMRMEDR'}>,\n",
       "        <Axes: title={'center': 'NMRMEMG'}>,\n",
       "        <Axes: title={'center': 'LFSTAT'}>,\n",
       "        <Axes: title={'center': 'WRKG'}>],\n",
       "       [<Axes: title={'center': 'FPTIND'}>,\n",
       "        <Axes: title={'center': 'WRKGP'}>,\n",
       "        <Axes: title={'center': 'EMSMI'}>,\n",
       "        <Axes: title={'center': 'HRSWKGR'}>,\n",
       "        <Axes: title={'center': 'WKSWKGR'}>,\n",
       "        <Axes: title={'center': 'JOBINS'}>,\n",
       "        <Axes: title={'center': 'JOBPENS'}>,\n",
       "        <Axes: title={'center': 'JOBPROFT'}>,\n",
       "        <Axes: title={'center': 'JOBVAC'}>,\n",
       "        <Axes: title={'center': 'PTWTFT'}>,\n",
       "        <Axes: title={'center': 'PTFAM'}>],\n",
       "       [<Axes: title={'center': 'PTNOND'}>,\n",
       "        <Axes: title={'center': 'PTOCNA'}>,\n",
       "        <Axes: title={'center': 'PTOTP'}>,\n",
       "        <Axes: title={'center': 'OCEDRLP'}>,\n",
       "        <Axes: title={'center': 'OCSEDRL'}>,\n",
       "        <Axes: title={'center': 'EMSEC'}>,\n",
       "        <Axes: title={'center': 'EMSIZE'}>,\n",
       "        <Axes: title={'center': 'NEWBUS'}>,\n",
       "        <Axes: title={'center': 'EMUS'}>,\n",
       "        <Axes: title={'center': 'GOVSUP'}>,\n",
       "        <Axes: title={'center': 'FSAGR'}>],\n",
       "       [<Axes: title={'center': 'FSDED'}>,\n",
       "        <Axes: title={'center': 'FSDK'}>,\n",
       "        <Axes: title={'center': 'FSDOD'}>,\n",
       "        <Axes: title={'center': 'FSDOE'}>,\n",
       "        <Axes: title={'center': 'FSDOT'}>,\n",
       "        <Axes: title={'center': 'FSEPA'}>,\n",
       "        <Axes: title={'center': 'FSHHS'}>,\n",
       "        <Axes: title={'center': 'FSNASA'}>,\n",
       "        <Axes: title={'center': 'FSNIH'}>,\n",
       "        <Axes: title={'center': 'FSNSF'}>,\n",
       "        <Axes: title={'center': 'FSOT'}>],\n",
       "       [<Axes: title={'center': 'ACTCAP'}>,\n",
       "        <Axes: title={'center': 'ACTDED'}>,\n",
       "        <Axes: title={'center': 'ACTMGT'}>,\n",
       "        <Axes: title={'center': 'ACTRD'}>,\n",
       "        <Axes: title={'center': 'ACTRDT'}>,\n",
       "        <Axes: title={'center': 'ACTRES'}>,\n",
       "        <Axes: title={'center': 'ACTTCH'}>,\n",
       "        <Axes: title={'center': 'WADEV'}>,\n",
       "        <Axes: title={'center': 'WADSN'}>,\n",
       "        <Axes: title={'center': 'WAEMRL'}>,\n",
       "        <Axes: title={'center': 'WAMGMT'}>],\n",
       "       [<Axes: title={'center': 'WAOT'}>,\n",
       "        <Axes: title={'center': 'WAPROD'}>,\n",
       "        <Axes: title={'center': 'SUPWK'}>,\n",
       "        <Axes: title={'center': 'PAPERS'}>,\n",
       "        <Axes: title={'center': 'ARTICLE'}>,\n",
       "        <Axes: title={'center': 'PRMBR'}>,\n",
       "        <Axes: title={'center': 'PROMTGI'}>,\n",
       "        <Axes: title={'center': 'BOOKSP'}>,\n",
       "        <Axes: title={'center': 'SALARY'}>,\n",
       "        <Axes: title={'center': 'NRREA'}>,\n",
       "        <Axes: title={'center': 'NRSEC'}>],\n",
       "       [<Axes: title={'center': 'NRCHG'}>,\n",
       "        <Axes: title={'center': 'NRCON'}>,\n",
       "        <Axes: title={'center': 'NRFAM'}>,\n",
       "        <Axes: title={'center': 'NRLOC'}>,\n",
       "        <Axes: title={'center': 'NROCNA'}>,\n",
       "        <Axes: title={'center': 'NROT'}>,\n",
       "        <Axes: title={'center': 'NRPAY'}>,\n",
       "        <Axes: title={'center': 'JOBSATIS'}>,\n",
       "        <Axes: title={'center': 'SATADV'}>,\n",
       "        <Axes: title={'center': 'SATBEN'}>,\n",
       "        <Axes: title={'center': 'SATCHAL'}>],\n",
       "       [<Axes: title={'center': 'SATIND'}>,\n",
       "        <Axes: title={'center': 'SATLOC'}>,\n",
       "        <Axes: title={'center': 'SATRESP'}>,\n",
       "        <Axes: title={'center': 'SATSAL'}>,\n",
       "        <Axes: title={'center': 'SATSEC'}>,\n",
       "        <Axes: title={'center': 'SATSOC'}>,\n",
       "        <Axes: title={'center': 'WKTRNI'}>,\n",
       "        <Axes: title={'center': 'WTREASN'}>,\n",
       "        <Axes: title={'center': 'WTRADV'}>,\n",
       "        <Axes: title={'center': 'WTRCHG'}>,\n",
       "        <Axes: title={'center': 'WTRCHOC'}>],\n",
       "       [<Axes: title={'center': 'WTREM'}>,\n",
       "        <Axes: title={'center': 'WTRLIC'}>,\n",
       "        <Axes: title={'center': 'WTRNEW'}>,\n",
       "        <Axes: title={'center': 'WTROPPS'}>,\n",
       "        <Axes: title={'center': 'WTROT'}>,\n",
       "        <Axes: title={'center': 'WTRPERS'}>,\n",
       "        <Axes: title={'center': 'WTRSKL'}>,\n",
       "        <Axes: title={'center': 'WTAPRF'}>,\n",
       "        <Axes: title={'center': 'WTMGT'}>,\n",
       "        <Axes: title={'center': 'WTOT'}>,\n",
       "        <Axes: title={'center': 'WTTECH'}>],\n",
       "       [<Axes: title={'center': 'MGRNAT'}>,\n",
       "        <Axes: title={'center': 'MGROTH'}>,\n",
       "        <Axes: title={'center': 'MGRSOC'}>,\n",
       "        <Axes: title={'center': 'SPNAT'}>,\n",
       "        <Axes: title={'center': 'SPOT'}>,\n",
       "        <Axes: title={'center': 'SPSOC'}>,\n",
       "        <Axes: title={'center': 'CHCHG'}>,\n",
       "        <Axes: title={'center': 'CHCON'}>,\n",
       "        <Axes: title={'center': 'CHFAM'}>,\n",
       "        <Axes: title={'center': 'CHLAY'}>,\n",
       "        <Axes: title={'center': 'CHLOC'}>],\n",
       "       [<Axes: title={'center': 'CHOT'}>,\n",
       "        <Axes: title={'center': 'CHPAY'}>,\n",
       "        <Axes: title={'center': 'CHRET'}>,\n",
       "        <Axes: title={'center': 'CHSCH'}>,\n",
       "        <Axes: title={'center': 'ICOLLAB'}>,\n",
       "        <Axes: title={'center': 'ICCOMM'}>,\n",
       "        <Axes: title={'center': 'ICTRLA'}>,\n",
       "        <Axes: title={'center': 'ICTRLH'}>,\n",
       "        <Axes: title={'center': 'ICWBVT'}>,\n",
       "        <Axes: title={'center': 'NWFAM'}>,\n",
       "        <Axes: title={'center': 'NWLAY'}>],\n",
       "       [<Axes: title={'center': 'NWNOND'}>,\n",
       "        <Axes: title={'center': 'NWOCNA'}>,\n",
       "        <Axes: title={'center': 'NWOTP'}>,\n",
       "        <Axes: title={'center': 'NWSTU'}>, <Axes: >, <Axes: >, <Axes: >,\n",
       "        <Axes: >, <Axes: >, <Axes: >, <Axes: >]], dtype=object)"
      ]
     },
     "execution_count": 40,
     "metadata": {},
     "output_type": "execute_result"
    },
    {
     "data": {
      "image/png": "[encoded data removed]",
      "text/plain": [
       "<Figure size 640x480 with 132 Axes>"
      ]
     },
     "metadata": {},
     "output_type": "display_data"
    }
   ],
   "source": [
    "df.hist(bins=15, color='steelblue', edgecolor='black', linewidth=1.0,\n",
    "              xlabelsize=8, ylabelsize=8, grid=False)\n",
    "\n",
    "# command to give space b/t diff. plots \n",
    "# plt.tight_layout(rect=(0, 0, 1.2, 1.2))   "
   ]
  },
  {
   "cell_type": "code",
   "execution_count": null,
   "metadata": {},
   "outputs": [],
   "source": []
  },
  {
   "cell_type": "code",
   "execution_count": 37,
   "metadata": {},
   "outputs": [
    {
     "ename": "ImportError",
     "evalue": "background_gradient requires matplotlib.",
     "output_type": "error",
     "traceback": [
      "\u001b[0;31m---------------------------------------------------------------------------\u001b[0m",
      "\u001b[0;31mImportError\u001b[0m                               Traceback (most recent call last)",
      "File \u001b[0;32m~/Documents/GitHub/CS668-Capstone-Project/.venv/lib/python3.11/site-packages/IPython/core/formatters.py:344\u001b[0m, in \u001b[0;36mBaseFormatter.__call__\u001b[0;34m(self, obj)\u001b[0m\n\u001b[1;32m    342\u001b[0m     method \u001b[39m=\u001b[39m get_real_method(obj, \u001b[39mself\u001b[39m\u001b[39m.\u001b[39mprint_method)\n\u001b[1;32m    343\u001b[0m     \u001b[39mif\u001b[39;00m method \u001b[39mis\u001b[39;00m \u001b[39mnot\u001b[39;00m \u001b[39mNone\u001b[39;00m:\n\u001b[0;32m--> 344\u001b[0m         \u001b[39mreturn\u001b[39;00m method()\n\u001b[1;32m    345\u001b[0m     \u001b[39mreturn\u001b[39;00m \u001b[39mNone\u001b[39;00m\n\u001b[1;32m    346\u001b[0m \u001b[39melse\u001b[39;00m:\n",
      "File \u001b[0;32m~/Documents/GitHub/CS668-Capstone-Project/.venv/lib/python3.11/site-packages/pandas/io/formats/style.py:408\u001b[0m, in \u001b[0;36mStyler._repr_html_\u001b[0;34m(self)\u001b[0m\n\u001b[1;32m    403\u001b[0m \u001b[39m\u001b[39m\u001b[39m\"\"\"\u001b[39;00m\n\u001b[1;32m    404\u001b[0m \u001b[39mHooks into Jupyter notebook rich display system, which calls _repr_html_ by\u001b[39;00m\n\u001b[1;32m    405\u001b[0m \u001b[39mdefault if an object is returned at the end of a cell.\u001b[39;00m\n\u001b[1;32m    406\u001b[0m \u001b[39m\"\"\"\u001b[39;00m\n\u001b[1;32m    407\u001b[0m \u001b[39mif\u001b[39;00m get_option(\u001b[39m\"\u001b[39m\u001b[39mstyler.render.repr\u001b[39m\u001b[39m\"\u001b[39m) \u001b[39m==\u001b[39m \u001b[39m\"\u001b[39m\u001b[39mhtml\u001b[39m\u001b[39m\"\u001b[39m:\n\u001b[0;32m--> 408\u001b[0m     \u001b[39mreturn\u001b[39;00m \u001b[39mself\u001b[39;49m\u001b[39m.\u001b[39;49mto_html()\n\u001b[1;32m    409\u001b[0m \u001b[39mreturn\u001b[39;00m \u001b[39mNone\u001b[39;00m\n",
      "File \u001b[0;32m~/Documents/GitHub/CS668-Capstone-Project/.venv/lib/python3.11/site-packages/pandas/io/formats/style.py:1348\u001b[0m, in \u001b[0;36mStyler.to_html\u001b[0;34m(self, buf, table_uuid, table_attributes, sparse_index, sparse_columns, bold_headers, caption, max_rows, max_columns, encoding, doctype_html, exclude_styles, **kwargs)\u001b[0m\n\u001b[1;32m   1345\u001b[0m     obj\u001b[39m.\u001b[39mset_caption(caption)\n\u001b[1;32m   1347\u001b[0m \u001b[39m# Build HTML string..\u001b[39;00m\n\u001b[0;32m-> 1348\u001b[0m html \u001b[39m=\u001b[39m obj\u001b[39m.\u001b[39;49m_render_html(\n\u001b[1;32m   1349\u001b[0m     sparse_index\u001b[39m=\u001b[39;49msparse_index,\n\u001b[1;32m   1350\u001b[0m     sparse_columns\u001b[39m=\u001b[39;49msparse_columns,\n\u001b[1;32m   1351\u001b[0m     max_rows\u001b[39m=\u001b[39;49mmax_rows,\n\u001b[1;32m   1352\u001b[0m     max_cols\u001b[39m=\u001b[39;49mmax_columns,\n\u001b[1;32m   1353\u001b[0m     exclude_styles\u001b[39m=\u001b[39;49mexclude_styles,\n\u001b[1;32m   1354\u001b[0m     encoding\u001b[39m=\u001b[39;49mencoding \u001b[39mor\u001b[39;49;00m get_option(\u001b[39m\"\u001b[39;49m\u001b[39mstyler.render.encoding\u001b[39;49m\u001b[39m\"\u001b[39;49m),\n\u001b[1;32m   1355\u001b[0m     doctype_html\u001b[39m=\u001b[39;49mdoctype_html,\n\u001b[1;32m   1356\u001b[0m     \u001b[39m*\u001b[39;49m\u001b[39m*\u001b[39;49mkwargs,\n\u001b[1;32m   1357\u001b[0m )\n\u001b[1;32m   1359\u001b[0m \u001b[39mreturn\u001b[39;00m save_to_buffer(\n\u001b[1;32m   1360\u001b[0m     html, buf\u001b[39m=\u001b[39mbuf, encoding\u001b[39m=\u001b[39m(encoding \u001b[39mif\u001b[39;00m buf \u001b[39mis\u001b[39;00m \u001b[39mnot\u001b[39;00m \u001b[39mNone\u001b[39;00m \u001b[39melse\u001b[39;00m \u001b[39mNone\u001b[39;00m)\n\u001b[1;32m   1361\u001b[0m )\n",
      "File \u001b[0;32m~/Documents/GitHub/CS668-Capstone-Project/.venv/lib/python3.11/site-packages/pandas/io/formats/style_render.py:204\u001b[0m, in \u001b[0;36mStylerRenderer._render_html\u001b[0;34m(self, sparse_index, sparse_columns, max_rows, max_cols, **kwargs)\u001b[0m\n\u001b[1;32m    192\u001b[0m \u001b[39mdef\u001b[39;00m \u001b[39m_render_html\u001b[39m(\n\u001b[1;32m    193\u001b[0m     \u001b[39mself\u001b[39m,\n\u001b[1;32m    194\u001b[0m     sparse_index: \u001b[39mbool\u001b[39m,\n\u001b[0;32m   (...)\u001b[0m\n\u001b[1;32m    198\u001b[0m     \u001b[39m*\u001b[39m\u001b[39m*\u001b[39mkwargs,\n\u001b[1;32m    199\u001b[0m ) \u001b[39m-\u001b[39m\u001b[39m>\u001b[39m \u001b[39mstr\u001b[39m:\n\u001b[1;32m    200\u001b[0m \u001b[39m    \u001b[39m\u001b[39m\"\"\"\u001b[39;00m\n\u001b[1;32m    201\u001b[0m \u001b[39m    Renders the ``Styler`` including all applied styles to HTML.\u001b[39;00m\n\u001b[1;32m    202\u001b[0m \u001b[39m    Generates a dict with necessary kwargs passed to jinja2 template.\u001b[39;00m\n\u001b[1;32m    203\u001b[0m \u001b[39m    \"\"\"\u001b[39;00m\n\u001b[0;32m--> 204\u001b[0m     d \u001b[39m=\u001b[39m \u001b[39mself\u001b[39;49m\u001b[39m.\u001b[39;49m_render(sparse_index, sparse_columns, max_rows, max_cols, \u001b[39m\"\u001b[39;49m\u001b[39m&nbsp;\u001b[39;49m\u001b[39m\"\u001b[39;49m)\n\u001b[1;32m    205\u001b[0m     d\u001b[39m.\u001b[39mupdate(kwargs)\n\u001b[1;32m    206\u001b[0m     \u001b[39mreturn\u001b[39;00m \u001b[39mself\u001b[39m\u001b[39m.\u001b[39mtemplate_html\u001b[39m.\u001b[39mrender(\n\u001b[1;32m    207\u001b[0m         \u001b[39m*\u001b[39m\u001b[39m*\u001b[39md,\n\u001b[1;32m    208\u001b[0m         html_table_tpl\u001b[39m=\u001b[39m\u001b[39mself\u001b[39m\u001b[39m.\u001b[39mtemplate_html_table,\n\u001b[1;32m    209\u001b[0m         html_style_tpl\u001b[39m=\u001b[39m\u001b[39mself\u001b[39m\u001b[39m.\u001b[39mtemplate_html_style,\n\u001b[1;32m    210\u001b[0m     )\n",
      "File \u001b[0;32m~/Documents/GitHub/CS668-Capstone-Project/.venv/lib/python3.11/site-packages/pandas/io/formats/style_render.py:161\u001b[0m, in \u001b[0;36mStylerRenderer._render\u001b[0;34m(self, sparse_index, sparse_columns, max_rows, max_cols, blank)\u001b[0m\n\u001b[1;32m    147\u001b[0m \u001b[39mdef\u001b[39;00m \u001b[39m_render\u001b[39m(\n\u001b[1;32m    148\u001b[0m     \u001b[39mself\u001b[39m,\n\u001b[1;32m    149\u001b[0m     sparse_index: \u001b[39mbool\u001b[39m,\n\u001b[0;32m   (...)\u001b[0m\n\u001b[1;32m    153\u001b[0m     blank: \u001b[39mstr\u001b[39m \u001b[39m=\u001b[39m \u001b[39m\"\u001b[39m\u001b[39m\"\u001b[39m,\n\u001b[1;32m    154\u001b[0m ):\n\u001b[1;32m    155\u001b[0m \u001b[39m    \u001b[39m\u001b[39m\"\"\"\u001b[39;00m\n\u001b[1;32m    156\u001b[0m \u001b[39m    Computes and applies styles and then generates the general render dicts.\u001b[39;00m\n\u001b[1;32m    157\u001b[0m \n\u001b[1;32m    158\u001b[0m \u001b[39m    Also extends the `ctx` and `ctx_index` attributes with those of concatenated\u001b[39;00m\n\u001b[1;32m    159\u001b[0m \u001b[39m    stylers for use within `_translate_latex`\u001b[39;00m\n\u001b[1;32m    160\u001b[0m \u001b[39m    \"\"\"\u001b[39;00m\n\u001b[0;32m--> 161\u001b[0m     \u001b[39mself\u001b[39;49m\u001b[39m.\u001b[39;49m_compute()\n\u001b[1;32m    162\u001b[0m     dxs \u001b[39m=\u001b[39m []\n\u001b[1;32m    163\u001b[0m     ctx_len \u001b[39m=\u001b[39m \u001b[39mlen\u001b[39m(\u001b[39mself\u001b[39m\u001b[39m.\u001b[39mindex)\n",
      "File \u001b[0;32m~/Documents/GitHub/CS668-Capstone-Project/.venv/lib/python3.11/site-packages/pandas/io/formats/style_render.py:256\u001b[0m, in \u001b[0;36mStylerRenderer._compute\u001b[0;34m(self)\u001b[0m\n\u001b[1;32m    254\u001b[0m r \u001b[39m=\u001b[39m \u001b[39mself\u001b[39m\n\u001b[1;32m    255\u001b[0m \u001b[39mfor\u001b[39;00m func, args, kwargs \u001b[39min\u001b[39;00m \u001b[39mself\u001b[39m\u001b[39m.\u001b[39m_todo:\n\u001b[0;32m--> 256\u001b[0m     r \u001b[39m=\u001b[39m func(\u001b[39mself\u001b[39;49m)(\u001b[39m*\u001b[39;49margs, \u001b[39m*\u001b[39;49m\u001b[39m*\u001b[39;49mkwargs)\n\u001b[1;32m    257\u001b[0m \u001b[39mreturn\u001b[39;00m r\n",
      "File \u001b[0;32m~/Documents/GitHub/CS668-Capstone-Project/.venv/lib/python3.11/site-packages/pandas/io/formats/style.py:1729\u001b[0m, in \u001b[0;36mStyler._apply\u001b[0;34m(self, func, axis, subset, **kwargs)\u001b[0m\n\u001b[1;32m   1727\u001b[0m axis \u001b[39m=\u001b[39m \u001b[39mself\u001b[39m\u001b[39m.\u001b[39mdata\u001b[39m.\u001b[39m_get_axis_number(axis)\n\u001b[1;32m   1728\u001b[0m \u001b[39mif\u001b[39;00m axis \u001b[39m==\u001b[39m \u001b[39m0\u001b[39m:\n\u001b[0;32m-> 1729\u001b[0m     result \u001b[39m=\u001b[39m data\u001b[39m.\u001b[39;49mapply(func, axis\u001b[39m=\u001b[39;49m\u001b[39m0\u001b[39;49m, \u001b[39m*\u001b[39;49m\u001b[39m*\u001b[39;49mkwargs)\n\u001b[1;32m   1730\u001b[0m \u001b[39melse\u001b[39;00m:\n\u001b[1;32m   1731\u001b[0m     result \u001b[39m=\u001b[39m data\u001b[39m.\u001b[39mT\u001b[39m.\u001b[39mapply(func, axis\u001b[39m=\u001b[39m\u001b[39m0\u001b[39m, \u001b[39m*\u001b[39m\u001b[39m*\u001b[39mkwargs)\u001b[39m.\u001b[39mT  \u001b[39m# see GH 42005\u001b[39;00m\n",
      "File \u001b[0;32m~/Documents/GitHub/CS668-Capstone-Project/.venv/lib/python3.11/site-packages/pandas/core/frame.py:10037\u001b[0m, in \u001b[0;36mDataFrame.apply\u001b[0;34m(self, func, axis, raw, result_type, args, by_row, **kwargs)\u001b[0m\n\u001b[1;32m  10025\u001b[0m \u001b[39mfrom\u001b[39;00m \u001b[39mpandas\u001b[39;00m\u001b[39m.\u001b[39;00m\u001b[39mcore\u001b[39;00m\u001b[39m.\u001b[39;00m\u001b[39mapply\u001b[39;00m \u001b[39mimport\u001b[39;00m frame_apply\n\u001b[1;32m  10027\u001b[0m op \u001b[39m=\u001b[39m frame_apply(\n\u001b[1;32m  10028\u001b[0m     \u001b[39mself\u001b[39m,\n\u001b[1;32m  10029\u001b[0m     func\u001b[39m=\u001b[39mfunc,\n\u001b[0;32m   (...)\u001b[0m\n\u001b[1;32m  10035\u001b[0m     kwargs\u001b[39m=\u001b[39mkwargs,\n\u001b[1;32m  10036\u001b[0m )\n\u001b[0;32m> 10037\u001b[0m \u001b[39mreturn\u001b[39;00m op\u001b[39m.\u001b[39;49mapply()\u001b[39m.\u001b[39m__finalize__(\u001b[39mself\u001b[39m, method\u001b[39m=\u001b[39m\u001b[39m\"\u001b[39m\u001b[39mapply\u001b[39m\u001b[39m\"\u001b[39m)\n",
      "File \u001b[0;32m~/Documents/GitHub/CS668-Capstone-Project/.venv/lib/python3.11/site-packages/pandas/core/apply.py:837\u001b[0m, in \u001b[0;36mFrameApply.apply\u001b[0;34m(self)\u001b[0m\n\u001b[1;32m    834\u001b[0m \u001b[39melif\u001b[39;00m \u001b[39mself\u001b[39m\u001b[39m.\u001b[39mraw:\n\u001b[1;32m    835\u001b[0m     \u001b[39mreturn\u001b[39;00m \u001b[39mself\u001b[39m\u001b[39m.\u001b[39mapply_raw()\n\u001b[0;32m--> 837\u001b[0m \u001b[39mreturn\u001b[39;00m \u001b[39mself\u001b[39;49m\u001b[39m.\u001b[39;49mapply_standard()\n",
      "File \u001b[0;32m~/Documents/GitHub/CS668-Capstone-Project/.venv/lib/python3.11/site-packages/pandas/core/apply.py:963\u001b[0m, in \u001b[0;36mFrameApply.apply_standard\u001b[0;34m(self)\u001b[0m\n\u001b[1;32m    962\u001b[0m \u001b[39mdef\u001b[39;00m \u001b[39mapply_standard\u001b[39m(\u001b[39mself\u001b[39m):\n\u001b[0;32m--> 963\u001b[0m     results, res_index \u001b[39m=\u001b[39m \u001b[39mself\u001b[39;49m\u001b[39m.\u001b[39;49mapply_series_generator()\n\u001b[1;32m    965\u001b[0m     \u001b[39m# wrap results\u001b[39;00m\n\u001b[1;32m    966\u001b[0m     \u001b[39mreturn\u001b[39;00m \u001b[39mself\u001b[39m\u001b[39m.\u001b[39mwrap_results(results, res_index)\n",
      "File \u001b[0;32m~/Documents/GitHub/CS668-Capstone-Project/.venv/lib/python3.11/site-packages/pandas/core/apply.py:979\u001b[0m, in \u001b[0;36mFrameApply.apply_series_generator\u001b[0;34m(self)\u001b[0m\n\u001b[1;32m    976\u001b[0m \u001b[39mwith\u001b[39;00m option_context(\u001b[39m\"\u001b[39m\u001b[39mmode.chained_assignment\u001b[39m\u001b[39m\"\u001b[39m, \u001b[39mNone\u001b[39;00m):\n\u001b[1;32m    977\u001b[0m     \u001b[39mfor\u001b[39;00m i, v \u001b[39min\u001b[39;00m \u001b[39menumerate\u001b[39m(series_gen):\n\u001b[1;32m    978\u001b[0m         \u001b[39m# ignore SettingWithCopy here in case the user mutates\u001b[39;00m\n\u001b[0;32m--> 979\u001b[0m         results[i] \u001b[39m=\u001b[39m \u001b[39mself\u001b[39;49m\u001b[39m.\u001b[39;49mfunc(v, \u001b[39m*\u001b[39;49m\u001b[39mself\u001b[39;49m\u001b[39m.\u001b[39;49margs, \u001b[39m*\u001b[39;49m\u001b[39m*\u001b[39;49m\u001b[39mself\u001b[39;49m\u001b[39m.\u001b[39;49mkwargs)\n\u001b[1;32m    980\u001b[0m         \u001b[39mif\u001b[39;00m \u001b[39misinstance\u001b[39m(results[i], ABCSeries):\n\u001b[1;32m    981\u001b[0m             \u001b[39m# If we have a view on v, we need to make a copy because\u001b[39;00m\n\u001b[1;32m    982\u001b[0m             \u001b[39m#  series_generator will swap out the underlying data\u001b[39;00m\n\u001b[1;32m    983\u001b[0m             results[i] \u001b[39m=\u001b[39m results[i]\u001b[39m.\u001b[39mcopy(deep\u001b[39m=\u001b[39m\u001b[39mFalse\u001b[39;00m)\n",
      "File \u001b[0;32m~/Documents/GitHub/CS668-Capstone-Project/.venv/lib/python3.11/site-packages/pandas/io/formats/style.py:3818\u001b[0m, in \u001b[0;36m_background_gradient\u001b[0;34m(data, cmap, low, high, text_color_threshold, vmin, vmax, gmap, text_only)\u001b[0m\n\u001b[1;32m   3815\u001b[0m \u001b[39melse\u001b[39;00m:  \u001b[39m# else validate gmap against the underlying data\u001b[39;00m\n\u001b[1;32m   3816\u001b[0m     gmap \u001b[39m=\u001b[39m _validate_apply_axis_arg(gmap, \u001b[39m\"\u001b[39m\u001b[39mgmap\u001b[39m\u001b[39m\"\u001b[39m, \u001b[39mfloat\u001b[39m, data)\n\u001b[0;32m-> 3818\u001b[0m \u001b[39mwith\u001b[39;49;00m _mpl(Styler\u001b[39m.\u001b[39;49mbackground_gradient) \u001b[39mas\u001b[39;49;00m (_, _matplotlib):\n\u001b[1;32m   3819\u001b[0m     smin \u001b[39m=\u001b[39;49m np\u001b[39m.\u001b[39;49mnanmin(gmap) \u001b[39mif\u001b[39;49;00m vmin \u001b[39mis\u001b[39;49;00m \u001b[39mNone\u001b[39;49;00m \u001b[39melse\u001b[39;49;00m vmin\n\u001b[1;32m   3820\u001b[0m     smax \u001b[39m=\u001b[39;49m np\u001b[39m.\u001b[39;49mnanmax(gmap) \u001b[39mif\u001b[39;49;00m vmax \u001b[39mis\u001b[39;49;00m \u001b[39mNone\u001b[39;49;00m \u001b[39melse\u001b[39;49;00m vmax\n",
      "File \u001b[0;32m/Library/Frameworks/Python.framework/Versions/3.11/lib/python3.11/contextlib.py:137\u001b[0m, in \u001b[0;36m_GeneratorContextManager.__enter__\u001b[0;34m(self)\u001b[0m\n\u001b[1;32m    135\u001b[0m \u001b[39mdel\u001b[39;00m \u001b[39mself\u001b[39m\u001b[39m.\u001b[39margs, \u001b[39mself\u001b[39m\u001b[39m.\u001b[39mkwds, \u001b[39mself\u001b[39m\u001b[39m.\u001b[39mfunc\n\u001b[1;32m    136\u001b[0m \u001b[39mtry\u001b[39;00m:\n\u001b[0;32m--> 137\u001b[0m     \u001b[39mreturn\u001b[39;00m \u001b[39mnext\u001b[39;49m(\u001b[39mself\u001b[39;49m\u001b[39m.\u001b[39;49mgen)\n\u001b[1;32m    138\u001b[0m \u001b[39mexcept\u001b[39;00m \u001b[39mStopIteration\u001b[39;00m:\n\u001b[1;32m    139\u001b[0m     \u001b[39mraise\u001b[39;00m \u001b[39mRuntimeError\u001b[39;00m(\u001b[39m\"\u001b[39m\u001b[39mgenerator didn\u001b[39m\u001b[39m'\u001b[39m\u001b[39mt yield\u001b[39m\u001b[39m\"\u001b[39m) \u001b[39mfrom\u001b[39;00m \u001b[39mNone\u001b[39;00m\n",
      "File \u001b[0;32m~/Documents/GitHub/CS668-Capstone-Project/.venv/lib/python3.11/site-packages/pandas/io/formats/style.py:98\u001b[0m, in \u001b[0;36m_mpl\u001b[0;34m(func)\u001b[0m\n\u001b[1;32m     96\u001b[0m     \u001b[39myield\u001b[39;00m plt, mpl\n\u001b[1;32m     97\u001b[0m \u001b[39melse\u001b[39;00m:\n\u001b[0;32m---> 98\u001b[0m     \u001b[39mraise\u001b[39;00m \u001b[39mImportError\u001b[39;00m(\u001b[39mf\u001b[39m\u001b[39m\"\u001b[39m\u001b[39m{\u001b[39;00mfunc\u001b[39m.\u001b[39m\u001b[39m__name__\u001b[39m\u001b[39m}\u001b[39;00m\u001b[39m requires matplotlib.\u001b[39m\u001b[39m\"\u001b[39m)\n",
      "\u001b[0;31mImportError\u001b[0m: background_gradient requires matplotlib."
     ]
    },
    {
     "data": {
      "text/plain": [
       "<pandas.io.formats.style.Styler at 0x149c2e010>"
      ]
     },
     "execution_count": 37,
     "metadata": {},
     "output_type": "execute_result"
    }
   ],
   "source": [
    "import matplotlib\n",
    "corr = df.corr()\n",
    "corr.style.background_gradient('coolwarm')"
   ]
  },
  {
   "cell_type": "code",
   "execution_count": 25,
   "metadata": {},
   "outputs": [
    {
     "data": {
      "text/plain": [
       "244071"
      ]
     },
     "execution_count": 25,
     "metadata": {},
     "output_type": "execute_result"
    }
   ],
   "source": [
    "len(df['PERSONID'].unique())"
   ]
  },
  {
   "cell_type": "code",
   "execution_count": 30,
   "metadata": {},
   "outputs": [],
   "source": [
    "from sklearn.cluster import KMeans"
   ]
  },
  {
   "cell_type": "code",
   "execution_count": 31,
   "metadata": {},
   "outputs": [
    {
     "ename": "ValueError",
     "evalue": "Input X contains NaN.\nKMeans does not accept missing values encoded as NaN natively. For supervised learning, you might want to consider sklearn.ensemble.HistGradientBoostingClassifier and Regressor which accept missing values encoded as NaNs natively. Alternatively, it is possible to preprocess the data, for instance by using an imputer transformer in a pipeline or drop samples with missing values. See https://scikit-learn.org/stable/modules/impute.html You can find a list of all estimators that handle NaN values at the following page: https://scikit-learn.org/stable/modules/impute.html#estimators-that-handle-nan-values",
     "output_type": "error",
     "traceback": [
      "\u001b[0;31m---------------------------------------------------------------------------\u001b[0m",
      "\u001b[0;31mValueError\u001b[0m                                Traceback (most recent call last)",
      "\u001b[1;32m/Users/av15397n/Documents/GitHub/CS668-Capstone-Project/code/eda.ipynb Cell 15\u001b[0m line \u001b[0;36m2\n\u001b[1;32m      <a href='vscode-notebook-cell:/Users/av15397n/Documents/GitHub/CS668-Capstone-Project/code/eda.ipynb#X21sZmlsZQ%3D%3D?line=0'>1</a>\u001b[0m kmeans \u001b[39m=\u001b[39m KMeans(n_clusters\u001b[39m=\u001b[39m\u001b[39m10\u001b[39m, random_state\u001b[39m=\u001b[39m\u001b[39m42\u001b[39m)\n\u001b[0;32m----> <a href='vscode-notebook-cell:/Users/av15397n/Documents/GitHub/CS668-Capstone-Project/code/eda.ipynb#X21sZmlsZQ%3D%3D?line=1'>2</a>\u001b[0m kmeans\u001b[39m.\u001b[39;49mfit(df)\n",
      "File \u001b[0;32m~/Documents/GitHub/CS668-Capstone-Project/.venv/lib/python3.11/site-packages/sklearn/base.py:1152\u001b[0m, in \u001b[0;36m_fit_context.<locals>.decorator.<locals>.wrapper\u001b[0;34m(estimator, *args, **kwargs)\u001b[0m\n\u001b[1;32m   1145\u001b[0m     estimator\u001b[39m.\u001b[39m_validate_params()\n\u001b[1;32m   1147\u001b[0m \u001b[39mwith\u001b[39;00m config_context(\n\u001b[1;32m   1148\u001b[0m     skip_parameter_validation\u001b[39m=\u001b[39m(\n\u001b[1;32m   1149\u001b[0m         prefer_skip_nested_validation \u001b[39mor\u001b[39;00m global_skip_validation\n\u001b[1;32m   1150\u001b[0m     )\n\u001b[1;32m   1151\u001b[0m ):\n\u001b[0;32m-> 1152\u001b[0m     \u001b[39mreturn\u001b[39;00m fit_method(estimator, \u001b[39m*\u001b[39;49margs, \u001b[39m*\u001b[39;49m\u001b[39m*\u001b[39;49mkwargs)\n",
      "File \u001b[0;32m~/Documents/GitHub/CS668-Capstone-Project/.venv/lib/python3.11/site-packages/sklearn/cluster/_kmeans.py:1475\u001b[0m, in \u001b[0;36mKMeans.fit\u001b[0;34m(self, X, y, sample_weight)\u001b[0m\n\u001b[1;32m   1447\u001b[0m \u001b[39m@_fit_context\u001b[39m(prefer_skip_nested_validation\u001b[39m=\u001b[39m\u001b[39mTrue\u001b[39;00m)\n\u001b[1;32m   1448\u001b[0m \u001b[39mdef\u001b[39;00m \u001b[39mfit\u001b[39m(\u001b[39mself\u001b[39m, X, y\u001b[39m=\u001b[39m\u001b[39mNone\u001b[39;00m, sample_weight\u001b[39m=\u001b[39m\u001b[39mNone\u001b[39;00m):\n\u001b[1;32m   1449\u001b[0m \u001b[39m    \u001b[39m\u001b[39m\"\"\"Compute k-means clustering.\u001b[39;00m\n\u001b[1;32m   1450\u001b[0m \n\u001b[1;32m   1451\u001b[0m \u001b[39m    Parameters\u001b[39;00m\n\u001b[0;32m   (...)\u001b[0m\n\u001b[1;32m   1473\u001b[0m \u001b[39m        Fitted estimator.\u001b[39;00m\n\u001b[1;32m   1474\u001b[0m \u001b[39m    \"\"\"\u001b[39;00m\n\u001b[0;32m-> 1475\u001b[0m     X \u001b[39m=\u001b[39m \u001b[39mself\u001b[39;49m\u001b[39m.\u001b[39;49m_validate_data(\n\u001b[1;32m   1476\u001b[0m         X,\n\u001b[1;32m   1477\u001b[0m         accept_sparse\u001b[39m=\u001b[39;49m\u001b[39m\"\u001b[39;49m\u001b[39mcsr\u001b[39;49m\u001b[39m\"\u001b[39;49m,\n\u001b[1;32m   1478\u001b[0m         dtype\u001b[39m=\u001b[39;49m[np\u001b[39m.\u001b[39;49mfloat64, np\u001b[39m.\u001b[39;49mfloat32],\n\u001b[1;32m   1479\u001b[0m         order\u001b[39m=\u001b[39;49m\u001b[39m\"\u001b[39;49m\u001b[39mC\u001b[39;49m\u001b[39m\"\u001b[39;49m,\n\u001b[1;32m   1480\u001b[0m         copy\u001b[39m=\u001b[39;49m\u001b[39mself\u001b[39;49m\u001b[39m.\u001b[39;49mcopy_x,\n\u001b[1;32m   1481\u001b[0m         accept_large_sparse\u001b[39m=\u001b[39;49m\u001b[39mFalse\u001b[39;49;00m,\n\u001b[1;32m   1482\u001b[0m     )\n\u001b[1;32m   1484\u001b[0m     \u001b[39mself\u001b[39m\u001b[39m.\u001b[39m_check_params_vs_input(X)\n\u001b[1;32m   1486\u001b[0m     random_state \u001b[39m=\u001b[39m check_random_state(\u001b[39mself\u001b[39m\u001b[39m.\u001b[39mrandom_state)\n",
      "File \u001b[0;32m~/Documents/GitHub/CS668-Capstone-Project/.venv/lib/python3.11/site-packages/sklearn/base.py:605\u001b[0m, in \u001b[0;36mBaseEstimator._validate_data\u001b[0;34m(self, X, y, reset, validate_separately, cast_to_ndarray, **check_params)\u001b[0m\n\u001b[1;32m    603\u001b[0m         out \u001b[39m=\u001b[39m X, y\n\u001b[1;32m    604\u001b[0m \u001b[39melif\u001b[39;00m \u001b[39mnot\u001b[39;00m no_val_X \u001b[39mand\u001b[39;00m no_val_y:\n\u001b[0;32m--> 605\u001b[0m     out \u001b[39m=\u001b[39m check_array(X, input_name\u001b[39m=\u001b[39;49m\u001b[39m\"\u001b[39;49m\u001b[39mX\u001b[39;49m\u001b[39m\"\u001b[39;49m, \u001b[39m*\u001b[39;49m\u001b[39m*\u001b[39;49mcheck_params)\n\u001b[1;32m    606\u001b[0m \u001b[39melif\u001b[39;00m no_val_X \u001b[39mand\u001b[39;00m \u001b[39mnot\u001b[39;00m no_val_y:\n\u001b[1;32m    607\u001b[0m     out \u001b[39m=\u001b[39m _check_y(y, \u001b[39m*\u001b[39m\u001b[39m*\u001b[39mcheck_params)\n",
      "File \u001b[0;32m~/Documents/GitHub/CS668-Capstone-Project/.venv/lib/python3.11/site-packages/sklearn/utils/validation.py:957\u001b[0m, in \u001b[0;36mcheck_array\u001b[0;34m(array, accept_sparse, accept_large_sparse, dtype, order, copy, force_all_finite, ensure_2d, allow_nd, ensure_min_samples, ensure_min_features, estimator, input_name)\u001b[0m\n\u001b[1;32m    951\u001b[0m         \u001b[39mraise\u001b[39;00m \u001b[39mValueError\u001b[39;00m(\n\u001b[1;32m    952\u001b[0m             \u001b[39m\"\u001b[39m\u001b[39mFound array with dim \u001b[39m\u001b[39m%d\u001b[39;00m\u001b[39m. \u001b[39m\u001b[39m%s\u001b[39;00m\u001b[39m expected <= 2.\u001b[39m\u001b[39m\"\u001b[39m\n\u001b[1;32m    953\u001b[0m             \u001b[39m%\u001b[39m (array\u001b[39m.\u001b[39mndim, estimator_name)\n\u001b[1;32m    954\u001b[0m         )\n\u001b[1;32m    956\u001b[0m     \u001b[39mif\u001b[39;00m force_all_finite:\n\u001b[0;32m--> 957\u001b[0m         _assert_all_finite(\n\u001b[1;32m    958\u001b[0m             array,\n\u001b[1;32m    959\u001b[0m             input_name\u001b[39m=\u001b[39;49minput_name,\n\u001b[1;32m    960\u001b[0m             estimator_name\u001b[39m=\u001b[39;49mestimator_name,\n\u001b[1;32m    961\u001b[0m             allow_nan\u001b[39m=\u001b[39;49mforce_all_finite \u001b[39m==\u001b[39;49m \u001b[39m\"\u001b[39;49m\u001b[39mallow-nan\u001b[39;49m\u001b[39m\"\u001b[39;49m,\n\u001b[1;32m    962\u001b[0m         )\n\u001b[1;32m    964\u001b[0m \u001b[39mif\u001b[39;00m ensure_min_samples \u001b[39m>\u001b[39m \u001b[39m0\u001b[39m:\n\u001b[1;32m    965\u001b[0m     n_samples \u001b[39m=\u001b[39m _num_samples(array)\n",
      "File \u001b[0;32m~/Documents/GitHub/CS668-Capstone-Project/.venv/lib/python3.11/site-packages/sklearn/utils/validation.py:122\u001b[0m, in \u001b[0;36m_assert_all_finite\u001b[0;34m(X, allow_nan, msg_dtype, estimator_name, input_name)\u001b[0m\n\u001b[1;32m    119\u001b[0m \u001b[39mif\u001b[39;00m first_pass_isfinite:\n\u001b[1;32m    120\u001b[0m     \u001b[39mreturn\u001b[39;00m\n\u001b[0;32m--> 122\u001b[0m _assert_all_finite_element_wise(\n\u001b[1;32m    123\u001b[0m     X,\n\u001b[1;32m    124\u001b[0m     xp\u001b[39m=\u001b[39;49mxp,\n\u001b[1;32m    125\u001b[0m     allow_nan\u001b[39m=\u001b[39;49mallow_nan,\n\u001b[1;32m    126\u001b[0m     msg_dtype\u001b[39m=\u001b[39;49mmsg_dtype,\n\u001b[1;32m    127\u001b[0m     estimator_name\u001b[39m=\u001b[39;49mestimator_name,\n\u001b[1;32m    128\u001b[0m     input_name\u001b[39m=\u001b[39;49minput_name,\n\u001b[1;32m    129\u001b[0m )\n",
      "File \u001b[0;32m~/Documents/GitHub/CS668-Capstone-Project/.venv/lib/python3.11/site-packages/sklearn/utils/validation.py:171\u001b[0m, in \u001b[0;36m_assert_all_finite_element_wise\u001b[0;34m(X, xp, allow_nan, msg_dtype, estimator_name, input_name)\u001b[0m\n\u001b[1;32m    154\u001b[0m \u001b[39mif\u001b[39;00m estimator_name \u001b[39mand\u001b[39;00m input_name \u001b[39m==\u001b[39m \u001b[39m\"\u001b[39m\u001b[39mX\u001b[39m\u001b[39m\"\u001b[39m \u001b[39mand\u001b[39;00m has_nan_error:\n\u001b[1;32m    155\u001b[0m     \u001b[39m# Improve the error message on how to handle missing values in\u001b[39;00m\n\u001b[1;32m    156\u001b[0m     \u001b[39m# scikit-learn.\u001b[39;00m\n\u001b[1;32m    157\u001b[0m     msg_err \u001b[39m+\u001b[39m\u001b[39m=\u001b[39m (\n\u001b[1;32m    158\u001b[0m         \u001b[39mf\u001b[39m\u001b[39m\"\u001b[39m\u001b[39m\\n\u001b[39;00m\u001b[39m{\u001b[39;00mestimator_name\u001b[39m}\u001b[39;00m\u001b[39m does not accept missing values\u001b[39m\u001b[39m\"\u001b[39m\n\u001b[1;32m    159\u001b[0m         \u001b[39m\"\u001b[39m\u001b[39m encoded as NaN natively. For supervised learning, you might want\u001b[39m\u001b[39m\"\u001b[39m\n\u001b[0;32m   (...)\u001b[0m\n\u001b[1;32m    169\u001b[0m         \u001b[39m\"\u001b[39m\u001b[39m#estimators-that-handle-nan-values\u001b[39m\u001b[39m\"\u001b[39m\n\u001b[1;32m    170\u001b[0m     )\n\u001b[0;32m--> 171\u001b[0m \u001b[39mraise\u001b[39;00m \u001b[39mValueError\u001b[39;00m(msg_err)\n",
      "\u001b[0;31mValueError\u001b[0m: Input X contains NaN.\nKMeans does not accept missing values encoded as NaN natively. For supervised learning, you might want to consider sklearn.ensemble.HistGradientBoostingClassifier and Regressor which accept missing values encoded as NaNs natively. Alternatively, it is possible to preprocess the data, for instance by using an imputer transformer in a pipeline or drop samples with missing values. See https://scikit-learn.org/stable/modules/impute.html You can find a list of all estimators that handle NaN values at the following page: https://scikit-learn.org/stable/modules/impute.html#estimators-that-handle-nan-values"
     ]
    }
   ],
   "source": [
    "kmeans = KMeans(n_clusters=10, random_state=42)\n",
    "kmeans.fit(df)"
   ]
  }
 ],
 "metadata": {
  "kernelspec": {
   "display_name": ".venv",
   "language": "python",
   "name": "python3"
  },
  "language_info": {
   "codemirror_mode": {
    "name": "ipython",
    "version": 3
   },
   "file_extension": ".py",
   "mimetype": "text/x-python",
   "name": "python",
   "nbconvert_exporter": "python",
   "pygments_lexer": "ipython3",
   "version": "3.11.5"
  },
  "orig_nbformat": 4
 },
 "nbformat": 4,
 "nbformat_minor": 2
}
