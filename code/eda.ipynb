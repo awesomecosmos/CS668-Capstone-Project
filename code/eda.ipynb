{
 "cells": [
  {
   "cell_type": "code",
   "execution_count": 118,
   "metadata": {},
   "outputs": [],
   "source": [
    "import pandas as pd\n",
    "import numpy as np\n",
    "import pickle\n",
    "import matplotlib.pyplot as plt"
   ]
  },
  {
   "cell_type": "code",
   "execution_count": 119,
   "metadata": {},
   "outputs": [],
   "source": [
    "df = pd.read_pickle('../data/highered.pkl')"
   ]
  },
  {
   "cell_type": "code",
   "execution_count": 120,
   "metadata": {},
   "outputs": [
    {
     "data": {
      "text/plain": [
       "(531216, 126)"
      ]
     },
     "execution_count": 120,
     "metadata": {},
     "output_type": "execute_result"
    }
   ],
   "source": [
    "df.shape"
   ]
  },
  {
   "cell_type": "code",
   "execution_count": 121,
   "metadata": {},
   "outputs": [
    {
     "data": {
      "text/html": [
       "<div>\n",
       "<style scoped>\n",
       "    .dataframe tbody tr th:only-of-type {\n",
       "        vertical-align: middle;\n",
       "    }\n",
       "\n",
       "    .dataframe tbody tr th {\n",
       "        vertical-align: top;\n",
       "    }\n",
       "\n",
       "    .dataframe thead th {\n",
       "        text-align: right;\n",
       "    }\n",
       "</style>\n",
       "<table border=\"1\" class=\"dataframe\">\n",
       "  <thead>\n",
       "    <tr style=\"text-align: right;\">\n",
       "      <th></th>\n",
       "      <th>PERSONID</th>\n",
       "      <th>YEAR</th>\n",
       "      <th>WEIGHT</th>\n",
       "      <th>SAMPLE</th>\n",
       "      <th>SURID</th>\n",
       "      <th>MRDG</th>\n",
       "      <th>MR03Y5</th>\n",
       "      <th>NMRMEDR</th>\n",
       "      <th>NMRMEMG</th>\n",
       "      <th>LFSTAT</th>\n",
       "      <th>...</th>\n",
       "      <th>ICCOMM</th>\n",
       "      <th>ICTRLA</th>\n",
       "      <th>ICTRLH</th>\n",
       "      <th>ICWBVT</th>\n",
       "      <th>NWFAM</th>\n",
       "      <th>NWLAY</th>\n",
       "      <th>NWNOND</th>\n",
       "      <th>NWOCNA</th>\n",
       "      <th>NWOTP</th>\n",
       "      <th>NWSTU</th>\n",
       "    </tr>\n",
       "  </thead>\n",
       "  <tbody>\n",
       "    <tr>\n",
       "      <th>0</th>\n",
       "      <td>50000030000000003</td>\n",
       "      <td>2003</td>\n",
       "      <td>372.6047</td>\n",
       "      <td>601</td>\n",
       "      <td>1</td>\n",
       "      <td>1</td>\n",
       "      <td>1981</td>\n",
       "      <td>719995</td>\n",
       "      <td>7</td>\n",
       "      <td>1</td>\n",
       "      <td>...</td>\n",
       "      <td>NaN</td>\n",
       "      <td>NaN</td>\n",
       "      <td>NaN</td>\n",
       "      <td>NaN</td>\n",
       "      <td>98</td>\n",
       "      <td>98</td>\n",
       "      <td>98</td>\n",
       "      <td>98</td>\n",
       "      <td>98</td>\n",
       "      <td>98</td>\n",
       "    </tr>\n",
       "    <tr>\n",
       "      <th>1</th>\n",
       "      <td>50000030000000004</td>\n",
       "      <td>2003</td>\n",
       "      <td>341.7484</td>\n",
       "      <td>601</td>\n",
       "      <td>1</td>\n",
       "      <td>1</td>\n",
       "      <td>1961</td>\n",
       "      <td>719995</td>\n",
       "      <td>7</td>\n",
       "      <td>1</td>\n",
       "      <td>...</td>\n",
       "      <td>NaN</td>\n",
       "      <td>NaN</td>\n",
       "      <td>NaN</td>\n",
       "      <td>NaN</td>\n",
       "      <td>98</td>\n",
       "      <td>98</td>\n",
       "      <td>98</td>\n",
       "      <td>98</td>\n",
       "      <td>98</td>\n",
       "      <td>98</td>\n",
       "    </tr>\n",
       "    <tr>\n",
       "      <th>2</th>\n",
       "      <td>50000030000000005</td>\n",
       "      <td>2003</td>\n",
       "      <td>522.5629</td>\n",
       "      <td>601</td>\n",
       "      <td>1</td>\n",
       "      <td>1</td>\n",
       "      <td>1966</td>\n",
       "      <td>799995</td>\n",
       "      <td>7</td>\n",
       "      <td>1</td>\n",
       "      <td>...</td>\n",
       "      <td>NaN</td>\n",
       "      <td>NaN</td>\n",
       "      <td>NaN</td>\n",
       "      <td>NaN</td>\n",
       "      <td>98</td>\n",
       "      <td>98</td>\n",
       "      <td>98</td>\n",
       "      <td>98</td>\n",
       "      <td>98</td>\n",
       "      <td>98</td>\n",
       "    </tr>\n",
       "    <tr>\n",
       "      <th>3</th>\n",
       "      <td>50000030000000006</td>\n",
       "      <td>2003</td>\n",
       "      <td>135.0212</td>\n",
       "      <td>601</td>\n",
       "      <td>1</td>\n",
       "      <td>2</td>\n",
       "      <td>1996</td>\n",
       "      <td>298895</td>\n",
       "      <td>2</td>\n",
       "      <td>1</td>\n",
       "      <td>...</td>\n",
       "      <td>NaN</td>\n",
       "      <td>NaN</td>\n",
       "      <td>NaN</td>\n",
       "      <td>NaN</td>\n",
       "      <td>98</td>\n",
       "      <td>98</td>\n",
       "      <td>98</td>\n",
       "      <td>98</td>\n",
       "      <td>98</td>\n",
       "      <td>98</td>\n",
       "    </tr>\n",
       "    <tr>\n",
       "      <th>4</th>\n",
       "      <td>50000030000000104</td>\n",
       "      <td>2003</td>\n",
       "      <td>907.4463</td>\n",
       "      <td>601</td>\n",
       "      <td>1</td>\n",
       "      <td>2</td>\n",
       "      <td>1976</td>\n",
       "      <td>438995</td>\n",
       "      <td>4</td>\n",
       "      <td>3</td>\n",
       "      <td>...</td>\n",
       "      <td>NaN</td>\n",
       "      <td>NaN</td>\n",
       "      <td>NaN</td>\n",
       "      <td>NaN</td>\n",
       "      <td>0</td>\n",
       "      <td>0</td>\n",
       "      <td>0</td>\n",
       "      <td>0</td>\n",
       "      <td>1</td>\n",
       "      <td>0</td>\n",
       "    </tr>\n",
       "  </tbody>\n",
       "</table>\n",
       "<p>5 rows × 125 columns</p>\n",
       "</div>"
      ],
      "text/plain": [
       "            PERSONID  YEAR    WEIGHT  SAMPLE  SURID  MRDG  MR03Y5  NMRMEDR  \\\n",
       "0  50000030000000003  2003  372.6047     601      1     1    1981   719995   \n",
       "1  50000030000000004  2003  341.7484     601      1     1    1961   719995   \n",
       "2  50000030000000005  2003  522.5629     601      1     1    1966   799995   \n",
       "3  50000030000000006  2003  135.0212     601      1     2    1996   298895   \n",
       "4  50000030000000104  2003  907.4463     601      1     2    1976   438995   \n",
       "\n",
       "   NMRMEMG  LFSTAT  ...  ICCOMM  ICTRLA  ICTRLH  ICWBVT  NWFAM  NWLAY  NWNOND  \\\n",
       "0        7       1  ...     NaN     NaN     NaN     NaN     98     98      98   \n",
       "1        7       1  ...     NaN     NaN     NaN     NaN     98     98      98   \n",
       "2        7       1  ...     NaN     NaN     NaN     NaN     98     98      98   \n",
       "3        2       1  ...     NaN     NaN     NaN     NaN     98     98      98   \n",
       "4        4       3  ...     NaN     NaN     NaN     NaN      0      0       0   \n",
       "\n",
       "   NWOCNA  NWOTP  NWSTU  \n",
       "0      98     98     98  \n",
       "1      98     98     98  \n",
       "2      98     98     98  \n",
       "3      98     98     98  \n",
       "4       0      1      0  \n",
       "\n",
       "[5 rows x 125 columns]"
      ]
     },
     "execution_count": 121,
     "metadata": {},
     "output_type": "execute_result"
    }
   ],
   "source": [
    "df = df.drop(['Unnamed: 0'], axis=1)\n",
    "df.head()"
   ]
  },
  {
   "cell_type": "code",
   "execution_count": 122,
   "metadata": {},
   "outputs": [
    {
     "data": {
      "text/plain": [
       "PERSONID    0\n",
       "YEAR        0\n",
       "WEIGHT      0\n",
       "SAMPLE      0\n",
       "SURID       0\n",
       "           ..\n",
       "NWLAY       0\n",
       "NWNOND      0\n",
       "NWOCNA      0\n",
       "NWOTP       0\n",
       "NWSTU       0\n",
       "Length: 125, dtype: int64"
      ]
     },
     "execution_count": 122,
     "metadata": {},
     "output_type": "execute_result"
    }
   ],
   "source": [
    "df.isnull().sum()"
   ]
  },
  {
   "cell_type": "code",
   "execution_count": 123,
   "metadata": {},
   "outputs": [
    {
     "data": {
      "text/html": [
       "<div>\n",
       "<style scoped>\n",
       "    .dataframe tbody tr th:only-of-type {\n",
       "        vertical-align: middle;\n",
       "    }\n",
       "\n",
       "    .dataframe tbody tr th {\n",
       "        vertical-align: top;\n",
       "    }\n",
       "\n",
       "    .dataframe thead th {\n",
       "        text-align: right;\n",
       "    }\n",
       "</style>\n",
       "<table border=\"1\" class=\"dataframe\">\n",
       "  <thead>\n",
       "    <tr style=\"text-align: right;\">\n",
       "      <th></th>\n",
       "      <th>PERSONID</th>\n",
       "      <th>YEAR</th>\n",
       "      <th>WEIGHT</th>\n",
       "      <th>SAMPLE</th>\n",
       "      <th>SURID</th>\n",
       "      <th>MRDG</th>\n",
       "      <th>MR03Y5</th>\n",
       "      <th>NMRMEDR</th>\n",
       "      <th>NMRMEMG</th>\n",
       "      <th>LFSTAT</th>\n",
       "      <th>...</th>\n",
       "      <th>ICCOMM</th>\n",
       "      <th>ICTRLA</th>\n",
       "      <th>ICTRLH</th>\n",
       "      <th>ICWBVT</th>\n",
       "      <th>NWFAM</th>\n",
       "      <th>NWLAY</th>\n",
       "      <th>NWNOND</th>\n",
       "      <th>NWOCNA</th>\n",
       "      <th>NWOTP</th>\n",
       "      <th>NWSTU</th>\n",
       "    </tr>\n",
       "  </thead>\n",
       "  <tbody>\n",
       "    <tr>\n",
       "      <th>count</th>\n",
       "      <td>5.312160e+05</td>\n",
       "      <td>531216.000000</td>\n",
       "      <td>531216.000000</td>\n",
       "      <td>531216.000000</td>\n",
       "      <td>531216.000000</td>\n",
       "      <td>531216.000000</td>\n",
       "      <td>531216.000000</td>\n",
       "      <td>531216.000000</td>\n",
       "      <td>531216.000000</td>\n",
       "      <td>531216.000000</td>\n",
       "      <td>...</td>\n",
       "      <td>105064.000000</td>\n",
       "      <td>105064.000000</td>\n",
       "      <td>105064.000000</td>\n",
       "      <td>105064.000000</td>\n",
       "      <td>531216.000000</td>\n",
       "      <td>531216.000000</td>\n",
       "      <td>531216.000000</td>\n",
       "      <td>531216.000000</td>\n",
       "      <td>531216.000000</td>\n",
       "      <td>531216.000000</td>\n",
       "    </tr>\n",
       "    <tr>\n",
       "      <th>mean</th>\n",
       "      <td>6.791717e+16</td>\n",
       "      <td>2008.132820</td>\n",
       "      <td>232.275293</td>\n",
       "      <td>806.921324</td>\n",
       "      <td>1.485305</td>\n",
       "      <td>2.001598</td>\n",
       "      <td>1989.843124</td>\n",
       "      <td>475942.620032</td>\n",
       "      <td>4.230213</td>\n",
       "      <td>1.268002</td>\n",
       "      <td>...</td>\n",
       "      <td>78.818787</td>\n",
       "      <td>78.703562</td>\n",
       "      <td>78.736189</td>\n",
       "      <td>78.732601</td>\n",
       "      <td>83.484483</td>\n",
       "      <td>83.475526</td>\n",
       "      <td>83.492984</td>\n",
       "      <td>83.481531</td>\n",
       "      <td>83.551228</td>\n",
       "      <td>83.478790</td>\n",
       "    </tr>\n",
       "    <tr>\n",
       "      <th>std</th>\n",
       "      <td>4.380479e+16</td>\n",
       "      <td>3.438795</td>\n",
       "      <td>409.307824</td>\n",
       "      <td>142.622619</td>\n",
       "      <td>0.668826</td>\n",
       "      <td>0.943027</td>\n",
       "      <td>38.762857</td>\n",
       "      <td>181563.579399</td>\n",
       "      <td>1.824249</td>\n",
       "      <td>0.659893</td>\n",
       "      <td>...</td>\n",
       "      <td>38.644287</td>\n",
       "      <td>38.876939</td>\n",
       "      <td>38.811236</td>\n",
       "      <td>38.818469</td>\n",
       "      <td>34.777917</td>\n",
       "      <td>34.799282</td>\n",
       "      <td>34.757625</td>\n",
       "      <td>34.784960</td>\n",
       "      <td>34.618224</td>\n",
       "      <td>34.791497</td>\n",
       "    </tr>\n",
       "    <tr>\n",
       "      <th>min</th>\n",
       "      <td>2.000000e+16</td>\n",
       "      <td>2003.000000</td>\n",
       "      <td>0.369800</td>\n",
       "      <td>601.000000</td>\n",
       "      <td>1.000000</td>\n",
       "      <td>1.000000</td>\n",
       "      <td>1950.000000</td>\n",
       "      <td>198895.000000</td>\n",
       "      <td>1.000000</td>\n",
       "      <td>1.000000</td>\n",
       "      <td>...</td>\n",
       "      <td>0.000000</td>\n",
       "      <td>0.000000</td>\n",
       "      <td>0.000000</td>\n",
       "      <td>0.000000</td>\n",
       "      <td>0.000000</td>\n",
       "      <td>0.000000</td>\n",
       "      <td>0.000000</td>\n",
       "      <td>0.000000</td>\n",
       "      <td>0.000000</td>\n",
       "      <td>0.000000</td>\n",
       "    </tr>\n",
       "    <tr>\n",
       "      <th>25%</th>\n",
       "      <td>2.000904e+16</td>\n",
       "      <td>2006.000000</td>\n",
       "      <td>29.106000</td>\n",
       "      <td>701.000000</td>\n",
       "      <td>1.000000</td>\n",
       "      <td>1.000000</td>\n",
       "      <td>1981.000000</td>\n",
       "      <td>318730.000000</td>\n",
       "      <td>3.000000</td>\n",
       "      <td>1.000000</td>\n",
       "      <td>...</td>\n",
       "      <td>98.000000</td>\n",
       "      <td>98.000000</td>\n",
       "      <td>98.000000</td>\n",
       "      <td>98.000000</td>\n",
       "      <td>98.000000</td>\n",
       "      <td>98.000000</td>\n",
       "      <td>98.000000</td>\n",
       "      <td>98.000000</td>\n",
       "      <td>98.000000</td>\n",
       "      <td>98.000000</td>\n",
       "    </tr>\n",
       "    <tr>\n",
       "      <th>50%</th>\n",
       "      <td>5.000004e+16</td>\n",
       "      <td>2008.000000</td>\n",
       "      <td>101.752800</td>\n",
       "      <td>801.000000</td>\n",
       "      <td>1.000000</td>\n",
       "      <td>2.000000</td>\n",
       "      <td>1991.000000</td>\n",
       "      <td>459395.000000</td>\n",
       "      <td>4.000000</td>\n",
       "      <td>1.000000</td>\n",
       "      <td>...</td>\n",
       "      <td>98.000000</td>\n",
       "      <td>98.000000</td>\n",
       "      <td>98.000000</td>\n",
       "      <td>98.000000</td>\n",
       "      <td>98.000000</td>\n",
       "      <td>98.000000</td>\n",
       "      <td>98.000000</td>\n",
       "      <td>98.000000</td>\n",
       "      <td>98.000000</td>\n",
       "      <td>98.000000</td>\n",
       "    </tr>\n",
       "    <tr>\n",
       "      <th>75%</th>\n",
       "      <td>1.101000e+17</td>\n",
       "      <td>2010.000000</td>\n",
       "      <td>262.868850</td>\n",
       "      <td>902.000000</td>\n",
       "      <td>2.000000</td>\n",
       "      <td>3.000000</td>\n",
       "      <td>2001.000000</td>\n",
       "      <td>611995.000000</td>\n",
       "      <td>6.000000</td>\n",
       "      <td>1.000000</td>\n",
       "      <td>...</td>\n",
       "      <td>98.000000</td>\n",
       "      <td>98.000000</td>\n",
       "      <td>98.000000</td>\n",
       "      <td>98.000000</td>\n",
       "      <td>98.000000</td>\n",
       "      <td>98.000000</td>\n",
       "      <td>98.000000</td>\n",
       "      <td>98.000000</td>\n",
       "      <td>98.000000</td>\n",
       "      <td>98.000000</td>\n",
       "    </tr>\n",
       "    <tr>\n",
       "      <th>max</th>\n",
       "      <td>1.401011e+17</td>\n",
       "      <td>2013.000000</td>\n",
       "      <td>14782.721400</td>\n",
       "      <td>1002.000000</td>\n",
       "      <td>3.000000</td>\n",
       "      <td>5.000000</td>\n",
       "      <td>9999.000000</td>\n",
       "      <td>999999.000000</td>\n",
       "      <td>9.000000</td>\n",
       "      <td>3.000000</td>\n",
       "      <td>...</td>\n",
       "      <td>98.000000</td>\n",
       "      <td>98.000000</td>\n",
       "      <td>98.000000</td>\n",
       "      <td>98.000000</td>\n",
       "      <td>98.000000</td>\n",
       "      <td>98.000000</td>\n",
       "      <td>98.000000</td>\n",
       "      <td>98.000000</td>\n",
       "      <td>98.000000</td>\n",
       "      <td>98.000000</td>\n",
       "    </tr>\n",
       "  </tbody>\n",
       "</table>\n",
       "<p>8 rows × 125 columns</p>\n",
       "</div>"
      ],
      "text/plain": [
       "           PERSONID           YEAR         WEIGHT         SAMPLE  \\\n",
       "count  5.312160e+05  531216.000000  531216.000000  531216.000000   \n",
       "mean   6.791717e+16    2008.132820     232.275293     806.921324   \n",
       "std    4.380479e+16       3.438795     409.307824     142.622619   \n",
       "min    2.000000e+16    2003.000000       0.369800     601.000000   \n",
       "25%    2.000904e+16    2006.000000      29.106000     701.000000   \n",
       "50%    5.000004e+16    2008.000000     101.752800     801.000000   \n",
       "75%    1.101000e+17    2010.000000     262.868850     902.000000   \n",
       "max    1.401011e+17    2013.000000   14782.721400    1002.000000   \n",
       "\n",
       "               SURID           MRDG         MR03Y5        NMRMEDR  \\\n",
       "count  531216.000000  531216.000000  531216.000000  531216.000000   \n",
       "mean        1.485305       2.001598    1989.843124  475942.620032   \n",
       "std         0.668826       0.943027      38.762857  181563.579399   \n",
       "min         1.000000       1.000000    1950.000000  198895.000000   \n",
       "25%         1.000000       1.000000    1981.000000  318730.000000   \n",
       "50%         1.000000       2.000000    1991.000000  459395.000000   \n",
       "75%         2.000000       3.000000    2001.000000  611995.000000   \n",
       "max         3.000000       5.000000    9999.000000  999999.000000   \n",
       "\n",
       "             NMRMEMG         LFSTAT  ...         ICCOMM         ICTRLA  \\\n",
       "count  531216.000000  531216.000000  ...  105064.000000  105064.000000   \n",
       "mean        4.230213       1.268002  ...      78.818787      78.703562   \n",
       "std         1.824249       0.659893  ...      38.644287      38.876939   \n",
       "min         1.000000       1.000000  ...       0.000000       0.000000   \n",
       "25%         3.000000       1.000000  ...      98.000000      98.000000   \n",
       "50%         4.000000       1.000000  ...      98.000000      98.000000   \n",
       "75%         6.000000       1.000000  ...      98.000000      98.000000   \n",
       "max         9.000000       3.000000  ...      98.000000      98.000000   \n",
       "\n",
       "              ICTRLH         ICWBVT          NWFAM          NWLAY  \\\n",
       "count  105064.000000  105064.000000  531216.000000  531216.000000   \n",
       "mean       78.736189      78.732601      83.484483      83.475526   \n",
       "std        38.811236      38.818469      34.777917      34.799282   \n",
       "min         0.000000       0.000000       0.000000       0.000000   \n",
       "25%        98.000000      98.000000      98.000000      98.000000   \n",
       "50%        98.000000      98.000000      98.000000      98.000000   \n",
       "75%        98.000000      98.000000      98.000000      98.000000   \n",
       "max        98.000000      98.000000      98.000000      98.000000   \n",
       "\n",
       "              NWNOND         NWOCNA          NWOTP          NWSTU  \n",
       "count  531216.000000  531216.000000  531216.000000  531216.000000  \n",
       "mean       83.492984      83.481531      83.551228      83.478790  \n",
       "std        34.757625      34.784960      34.618224      34.791497  \n",
       "min         0.000000       0.000000       0.000000       0.000000  \n",
       "25%        98.000000      98.000000      98.000000      98.000000  \n",
       "50%        98.000000      98.000000      98.000000      98.000000  \n",
       "75%        98.000000      98.000000      98.000000      98.000000  \n",
       "max        98.000000      98.000000      98.000000      98.000000  \n",
       "\n",
       "[8 rows x 125 columns]"
      ]
     },
     "execution_count": 123,
     "metadata": {},
     "output_type": "execute_result"
    }
   ],
   "source": [
    "df.describe()"
   ]
  },
  {
   "cell_type": "code",
   "execution_count": 124,
   "metadata": {},
   "outputs": [
    {
     "name": "stdout",
     "output_type": "stream",
     "text": [
      "(531216, 63)\n"
     ]
    },
    {
     "data": {
      "text/html": [
       "<div>\n",
       "<style scoped>\n",
       "    .dataframe tbody tr th:only-of-type {\n",
       "        vertical-align: middle;\n",
       "    }\n",
       "\n",
       "    .dataframe tbody tr th {\n",
       "        vertical-align: top;\n",
       "    }\n",
       "\n",
       "    .dataframe thead th {\n",
       "        text-align: right;\n",
       "    }\n",
       "</style>\n",
       "<table border=\"1\" class=\"dataframe\">\n",
       "  <thead>\n",
       "    <tr style=\"text-align: right;\">\n",
       "      <th></th>\n",
       "      <th>PERSONID</th>\n",
       "      <th>YEAR</th>\n",
       "      <th>MRDG</th>\n",
       "      <th>NMRMEDR</th>\n",
       "      <th>NMRMEMG</th>\n",
       "      <th>LFSTAT</th>\n",
       "      <th>FPTIND</th>\n",
       "      <th>EMSMI</th>\n",
       "      <th>HRSWKGR</th>\n",
       "      <th>WKSWKGR</th>\n",
       "      <th>...</th>\n",
       "      <th>CHCHG</th>\n",
       "      <th>CHCON</th>\n",
       "      <th>CHFAM</th>\n",
       "      <th>CHLAY</th>\n",
       "      <th>CHLOC</th>\n",
       "      <th>CHOT</th>\n",
       "      <th>CHPAY</th>\n",
       "      <th>CHRET</th>\n",
       "      <th>CHSCH</th>\n",
       "      <th>ICOLLAB</th>\n",
       "    </tr>\n",
       "  </thead>\n",
       "  <tbody>\n",
       "    <tr>\n",
       "      <th>0</th>\n",
       "      <td>50000030000000003</td>\n",
       "      <td>2003</td>\n",
       "      <td>1</td>\n",
       "      <td>719995</td>\n",
       "      <td>7</td>\n",
       "      <td>1</td>\n",
       "      <td>1.0</td>\n",
       "      <td>NaN</td>\n",
       "      <td>3</td>\n",
       "      <td>3</td>\n",
       "      <td>...</td>\n",
       "      <td>NaN</td>\n",
       "      <td>NaN</td>\n",
       "      <td>NaN</td>\n",
       "      <td>NaN</td>\n",
       "      <td>NaN</td>\n",
       "      <td>NaN</td>\n",
       "      <td>NaN</td>\n",
       "      <td>NaN</td>\n",
       "      <td>NaN</td>\n",
       "      <td>NaN</td>\n",
       "    </tr>\n",
       "    <tr>\n",
       "      <th>1</th>\n",
       "      <td>50000030000000004</td>\n",
       "      <td>2003</td>\n",
       "      <td>1</td>\n",
       "      <td>719995</td>\n",
       "      <td>7</td>\n",
       "      <td>1</td>\n",
       "      <td>1.0</td>\n",
       "      <td>NaN</td>\n",
       "      <td>3</td>\n",
       "      <td>4</td>\n",
       "      <td>...</td>\n",
       "      <td>NaN</td>\n",
       "      <td>NaN</td>\n",
       "      <td>NaN</td>\n",
       "      <td>NaN</td>\n",
       "      <td>NaN</td>\n",
       "      <td>NaN</td>\n",
       "      <td>NaN</td>\n",
       "      <td>NaN</td>\n",
       "      <td>NaN</td>\n",
       "      <td>NaN</td>\n",
       "    </tr>\n",
       "    <tr>\n",
       "      <th>2</th>\n",
       "      <td>50000030000000005</td>\n",
       "      <td>2003</td>\n",
       "      <td>1</td>\n",
       "      <td>799995</td>\n",
       "      <td>7</td>\n",
       "      <td>1</td>\n",
       "      <td>1.0</td>\n",
       "      <td>NaN</td>\n",
       "      <td>4</td>\n",
       "      <td>4</td>\n",
       "      <td>...</td>\n",
       "      <td>NaN</td>\n",
       "      <td>NaN</td>\n",
       "      <td>NaN</td>\n",
       "      <td>NaN</td>\n",
       "      <td>NaN</td>\n",
       "      <td>NaN</td>\n",
       "      <td>NaN</td>\n",
       "      <td>NaN</td>\n",
       "      <td>NaN</td>\n",
       "      <td>NaN</td>\n",
       "    </tr>\n",
       "    <tr>\n",
       "      <th>3</th>\n",
       "      <td>50000030000000006</td>\n",
       "      <td>2003</td>\n",
       "      <td>2</td>\n",
       "      <td>298895</td>\n",
       "      <td>2</td>\n",
       "      <td>1</td>\n",
       "      <td>1.0</td>\n",
       "      <td>NaN</td>\n",
       "      <td>4</td>\n",
       "      <td>4</td>\n",
       "      <td>...</td>\n",
       "      <td>NaN</td>\n",
       "      <td>NaN</td>\n",
       "      <td>NaN</td>\n",
       "      <td>NaN</td>\n",
       "      <td>NaN</td>\n",
       "      <td>NaN</td>\n",
       "      <td>NaN</td>\n",
       "      <td>NaN</td>\n",
       "      <td>NaN</td>\n",
       "      <td>NaN</td>\n",
       "    </tr>\n",
       "    <tr>\n",
       "      <th>4</th>\n",
       "      <td>50000030000000104</td>\n",
       "      <td>2003</td>\n",
       "      <td>2</td>\n",
       "      <td>438995</td>\n",
       "      <td>4</td>\n",
       "      <td>3</td>\n",
       "      <td>98.0</td>\n",
       "      <td>NaN</td>\n",
       "      <td>98</td>\n",
       "      <td>98</td>\n",
       "      <td>...</td>\n",
       "      <td>NaN</td>\n",
       "      <td>NaN</td>\n",
       "      <td>NaN</td>\n",
       "      <td>NaN</td>\n",
       "      <td>NaN</td>\n",
       "      <td>NaN</td>\n",
       "      <td>NaN</td>\n",
       "      <td>NaN</td>\n",
       "      <td>NaN</td>\n",
       "      <td>NaN</td>\n",
       "    </tr>\n",
       "  </tbody>\n",
       "</table>\n",
       "<p>5 rows × 63 columns</p>\n",
       "</div>"
      ],
      "text/plain": [
       "            PERSONID  YEAR  MRDG  NMRMEDR  NMRMEMG  LFSTAT  FPTIND  EMSMI  \\\n",
       "0  50000030000000003  2003     1   719995        7       1     1.0    NaN   \n",
       "1  50000030000000004  2003     1   719995        7       1     1.0    NaN   \n",
       "2  50000030000000005  2003     1   799995        7       1     1.0    NaN   \n",
       "3  50000030000000006  2003     2   298895        2       1     1.0    NaN   \n",
       "4  50000030000000104  2003     2   438995        4       3    98.0    NaN   \n",
       "\n",
       "   HRSWKGR  WKSWKGR  ...  CHCHG  CHCON  CHFAM  CHLAY  CHLOC  CHOT  CHPAY  \\\n",
       "0        3        3  ...    NaN    NaN    NaN    NaN    NaN   NaN    NaN   \n",
       "1        3        4  ...    NaN    NaN    NaN    NaN    NaN   NaN    NaN   \n",
       "2        4        4  ...    NaN    NaN    NaN    NaN    NaN   NaN    NaN   \n",
       "3        4        4  ...    NaN    NaN    NaN    NaN    NaN   NaN    NaN   \n",
       "4       98       98  ...    NaN    NaN    NaN    NaN    NaN   NaN    NaN   \n",
       "\n",
       "   CHRET  CHSCH  ICOLLAB  \n",
       "0    NaN    NaN      NaN  \n",
       "1    NaN    NaN      NaN  \n",
       "2    NaN    NaN      NaN  \n",
       "3    NaN    NaN      NaN  \n",
       "4    NaN    NaN      NaN  \n",
       "\n",
       "[5 rows x 63 columns]"
      ]
     },
     "execution_count": 124,
     "metadata": {},
     "output_type": "execute_result"
    }
   ],
   "source": [
    "df2 = df.copy()\n",
    "cols_to_drop = ['WEIGHT','SAMPLE','SURID','WRKG','WRKGP','EMUS','FSAGR','FSDED','FSDK','FSDOD','FSDOE','FSDOT','FSEPA','FSHHS',\n",
    "                'FSNASA','FSNIH','FSNSF','FSOT','MR03Y5','ICCOMM','ICTRLA','ICTRLH','ICWBVT','NWFAM','NWLAY','NWNOND','NEWBUS',\n",
    "\t\t\t\t'NWOCNA','NWOTP','NWSTU','SPNAT','SPOT','SPSOC','MGRNAT','MGROTH','MGRSOC','WTREASN','WTRADV','WTRCHG','WTRCHOC',\n",
    "\t\t\t\t'WTREM','WTRLIC','WTRNEW','WTROPPS','WTROT','WTRPERS','WTRSKL','WTAPRF','WTMGT','WTOT','WTTECH','SATADV','SATBEN',\n",
    "\t\t\t\t'SATCHAL','SATIND','SATLOC','SATRESP','SATSAL','SATSEC','SATSOC','NRREA','NRSEC'\n",
    "\t\t\t\t]\n",
    "\n",
    "df2 = df2.drop(cols_to_drop, axis=1)\n",
    "print(df2.shape)\n",
    "df2.head()"
   ]
  },
  {
   "cell_type": "markdown",
   "metadata": {},
   "source": [
    "## Investigating Variables\n",
    "\n",
    "We will investigate different variables of interest and assess if they are relevant to the model or not."
   ]
  },
  {
   "cell_type": "markdown",
   "metadata": {},
   "source": [
    "### EMSEC: Employer sector. \n",
    "\n",
    "1 = 2 year college or other school system, 2 = 4 year college or medical institution, 3 = Government, 4 = Business or industry, 5 = Non-US government, 98 = Logical Skip."
   ]
  },
  {
   "cell_type": "code",
   "execution_count": 125,
   "metadata": {},
   "outputs": [
    {
     "data": {
      "text/plain": [
       "EMSEC\n",
       "1      34260\n",
       "2      90334\n",
       "3      53412\n",
       "4     274398\n",
       "98     78812\n",
       "Name: EMSEC, dtype: int64"
      ]
     },
     "execution_count": 125,
     "metadata": {},
     "output_type": "execute_result"
    }
   ],
   "source": [
    "df2.groupby(['EMSEC'])['EMSEC'].count()"
   ]
  },
  {
   "cell_type": "markdown",
   "metadata": {},
   "source": [
    "We will drop the 'skip' values for this column and all proceeding columns with that value, as it does not add any meaningful analysis. We will drop EMSEC values of 5 as well, since we are not interested in a non-US government employment type."
   ]
  },
  {
   "cell_type": "code",
   "execution_count": 126,
   "metadata": {},
   "outputs": [
    {
     "data": {
      "text/plain": [
       "(452404, 63)"
      ]
     },
     "execution_count": 126,
     "metadata": {},
     "output_type": "execute_result"
    }
   ],
   "source": [
    "df2 = df2[df2['EMSEC'].isin([1,2,3,4])]\n",
    "df2.shape"
   ]
  },
  {
   "cell_type": "markdown",
   "metadata": {},
   "source": [
    "### LFSTAT: Labor force status.\n",
    "1 = employed, 2 = unemployed, 3 = not in labor force."
   ]
  },
  {
   "cell_type": "code",
   "execution_count": 127,
   "metadata": {},
   "outputs": [
    {
     "data": {
      "text/plain": [
       "LFSTAT\n",
       "1    452404\n",
       "Name: LFSTAT, dtype: int64"
      ]
     },
     "execution_count": 127,
     "metadata": {},
     "output_type": "execute_result"
    }
   ],
   "source": [
    "df2.groupby(['LFSTAT'])['LFSTAT'].count()"
   ]
  },
  {
   "cell_type": "markdown",
   "metadata": {},
   "source": [
    "We will drop values 2 and 3, since we are only interested in survey respondents who were employed at the time of the survey."
   ]
  },
  {
   "cell_type": "code",
   "execution_count": 128,
   "metadata": {},
   "outputs": [
    {
     "data": {
      "text/plain": [
       "(452404, 63)"
      ]
     },
     "execution_count": 128,
     "metadata": {},
     "output_type": "execute_result"
    }
   ],
   "source": [
    "df2 = df2[df2['LFSTAT'] == 1]\n",
    "df2.shape"
   ]
  },
  {
   "cell_type": "markdown",
   "metadata": {},
   "source": [
    "### GOVSUP: Federal government support indicator.\n",
    "0 = no, 1 = yes."
   ]
  },
  {
   "cell_type": "code",
   "execution_count": 129,
   "metadata": {},
   "outputs": [
    {
     "data": {
      "text/plain": [
       "GOVSUP\n",
       "0     346408\n",
       "1     102498\n",
       "98      3498\n",
       "Name: GOVSUP, dtype: int64"
      ]
     },
     "execution_count": 129,
     "metadata": {},
     "output_type": "execute_result"
    }
   ],
   "source": [
    "df2.groupby(['GOVSUP'])['GOVSUP'].count()"
   ]
  },
  {
   "cell_type": "code",
   "execution_count": 130,
   "metadata": {},
   "outputs": [
    {
     "data": {
      "text/plain": [
       "(448906, 63)"
      ]
     },
     "execution_count": 130,
     "metadata": {},
     "output_type": "execute_result"
    }
   ],
   "source": [
    "df2 = df2[df2['GOVSUP'] != 98]\n",
    "df2.shape"
   ]
  },
  {
   "cell_type": "markdown",
   "metadata": {},
   "source": [
    "### MRDG: Type of degree, most recent degree.\n",
    "1 = Bachelor's, 2 = Master's, 3 = Doctorate, 4 = Professional, 5 = Other."
   ]
  },
  {
   "cell_type": "code",
   "execution_count": 131,
   "metadata": {},
   "outputs": [
    {
     "data": {
      "text/plain": [
       "MRDG\n",
       "1    172121\n",
       "2    117429\n",
       "3    137244\n",
       "4     21373\n",
       "5       739\n",
       "Name: MRDG, dtype: int64"
      ]
     },
     "execution_count": 131,
     "metadata": {},
     "output_type": "execute_result"
    }
   ],
   "source": [
    "df2.groupby(['MRDG'])['MRDG'].count()"
   ]
  },
  {
   "cell_type": "markdown",
   "metadata": {},
   "source": [
    "We will drop 1, 2, 4, and 5, since we are only interested in respondents with a doctorate."
   ]
  },
  {
   "cell_type": "code",
   "execution_count": 132,
   "metadata": {},
   "outputs": [
    {
     "data": {
      "text/plain": [
       "(137244, 63)"
      ]
     },
     "execution_count": 132,
     "metadata": {},
     "output_type": "execute_result"
    }
   ],
   "source": [
    "df2 = df2[df2['MRDG'] == 3]\n",
    "df2.shape"
   ]
  },
  {
   "cell_type": "markdown",
   "metadata": {},
   "source": [
    "### FPTIND:\tFull-time/part-time status\n",
    "\n",
    "1 = full-time, 2 = part-time"
   ]
  },
  {
   "cell_type": "code",
   "execution_count": 133,
   "metadata": {},
   "outputs": [
    {
     "data": {
      "text/plain": [
       "FPTIND\n",
       "1.0    24208\n",
       "2.0     2617\n",
       "Name: FPTIND, dtype: int64"
      ]
     },
     "execution_count": 133,
     "metadata": {},
     "output_type": "execute_result"
    }
   ],
   "source": [
    "df2.groupby(['FPTIND'])['FPTIND'].count()"
   ]
  },
  {
   "cell_type": "markdown",
   "metadata": {},
   "source": [
    "We will keep only full-time working repsondents."
   ]
  },
  {
   "cell_type": "code",
   "execution_count": 134,
   "metadata": {},
   "outputs": [
    {
     "data": {
      "text/plain": [
       "(24208, 63)"
      ]
     },
     "execution_count": 134,
     "metadata": {},
     "output_type": "execute_result"
    }
   ],
   "source": [
    "df2 = df2[df2['FPTIND'] == 1]\n",
    "df2.shape"
   ]
  },
  {
   "cell_type": "code",
   "execution_count": null,
   "metadata": {},
   "outputs": [],
   "source": []
  },
  {
   "cell_type": "code",
   "execution_count": null,
   "metadata": {},
   "outputs": [],
   "source": []
  },
  {
   "cell_type": "code",
   "execution_count": null,
   "metadata": {},
   "outputs": [],
   "source": [
    "cols_to_drop_98 = ['OCEDRLP']"
   ]
  },
  {
   "cell_type": "code",
   "execution_count": null,
   "metadata": {},
   "outputs": [],
   "source": [
    "df.shape"
   ]
  },
  {
   "cell_type": "code",
   "execution_count": null,
   "metadata": {},
   "outputs": [],
   "source": [
    "df.info()"
   ]
  },
  {
   "cell_type": "code",
   "execution_count": null,
   "metadata": {},
   "outputs": [],
   "source": [
    "# finding columns in the df which have any null/na values\n",
    "np.where(pd.isna(df))"
   ]
  },
  {
   "cell_type": "code",
   "execution_count": null,
   "metadata": {},
   "outputs": [],
   "source": [
    "df2[df2['SALARY']==df2['SALARY'].max()]['SALARY'].count()"
   ]
  },
  {
   "cell_type": "code",
   "execution_count": null,
   "metadata": {},
   "outputs": [],
   "source": [
    "plt.hist(df2['SALARY'], bins=50)"
   ]
  },
  {
   "cell_type": "code",
   "execution_count": null,
   "metadata": {},
   "outputs": [],
   "source": [
    "df.hist(bins=15, color='steelblue', edgecolor='black', linewidth=1.0,\n",
    "              xlabelsize=8, ylabelsize=8, grid=False)\n",
    "\n",
    "# command to give space b/t diff. plots \n",
    "# plt.tight_layout(rect=(0, 0, 1.2, 1.2))   "
   ]
  },
  {
   "cell_type": "code",
   "execution_count": null,
   "metadata": {},
   "outputs": [],
   "source": []
  },
  {
   "cell_type": "code",
   "execution_count": null,
   "metadata": {},
   "outputs": [],
   "source": [
    "import matplotlib\n",
    "corr = df.corr()\n",
    "corr.style.background_gradient('coolwarm')"
   ]
  },
  {
   "cell_type": "code",
   "execution_count": null,
   "metadata": {},
   "outputs": [],
   "source": [
    "len(df['PERSONID'].unique())"
   ]
  },
  {
   "cell_type": "code",
   "execution_count": null,
   "metadata": {},
   "outputs": [],
   "source": [
    "from sklearn.cluster import KMeans"
   ]
  },
  {
   "cell_type": "code",
   "execution_count": null,
   "metadata": {},
   "outputs": [],
   "source": [
    "kmeans = KMeans(n_clusters=10, random_state=42)\n",
    "kmeans.fit(df)"
   ]
  }
 ],
 "metadata": {
  "kernelspec": {
   "display_name": ".venv",
   "language": "python",
   "name": "python3"
  },
  "language_info": {
   "codemirror_mode": {
    "name": "ipython",
    "version": 3
   },
   "file_extension": ".py",
   "mimetype": "text/x-python",
   "name": "python",
   "nbconvert_exporter": "python",
   "pygments_lexer": "ipython3",
   "version": "3.11.5"
  },
  "orig_nbformat": 4
 },
 "nbformat": 4,
 "nbformat_minor": 2
}
